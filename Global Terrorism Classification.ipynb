{
 "cells": [
  {
   "cell_type": "markdown",
   "metadata": {},
   "source": [
    "# Global Terrorism Classification\n",
    "by : Hesham Asem\n",
    "\n",
    "________________\n",
    "\n",
    "here we have a dataset for ens of thousands of successful & failed terroristic operations worldwide , & we need to build a classifier , which can expect whether the operation will succeeded or failed \n",
    "\n",
    "Database : \n",
    "https://www.kaggle.com/START-UMD/gtd/\n",
    "\n",
    "so let's import needed libraries"
   ]
  },
  {
   "cell_type": "code",
   "execution_count": 1,
   "metadata": {},
   "outputs": [],
   "source": [
    "import pandas as pd\n",
    "import numpy as np\n",
    "import matplotlib.pyplot as plt\n",
    "%matplotlib inline\n",
    "import seaborn as sns\n",
    "sns.set(style=\"whitegrid\")\n",
    "from sklearn.model_selection import train_test_split\n",
    "from sklearn.preprocessing import LabelEncoder"
   ]
  },
  {
   "cell_type": "markdown",
   "metadata": {},
   "source": [
    "then we'll read the data"
   ]
  },
  {
   "cell_type": "code",
   "execution_count": 2,
   "metadata": {},
   "outputs": [
    {
     "name": "stderr",
     "output_type": "stream",
     "text": [
      "C:\\ProgramData\\Anaconda3\\lib\\site-packages\\IPython\\core\\interactiveshell.py:3049: DtypeWarning: Columns (4,6,31,33,61,62,63,76,79,90,92,94,96,114,115,121) have mixed types. Specify dtype option on import or set low_memory=False.\n",
      "  interactivity=interactivity, compiler=compiler, result=result)\n"
     ]
    },
    {
     "name": "stdout",
     "output_type": "stream",
     "text": [
      "Data Shape is (181691, 135)\n"
     ]
    },
    {
     "data": {
      "text/html": [
       "<div>\n",
       "<style scoped>\n",
       "    .dataframe tbody tr th:only-of-type {\n",
       "        vertical-align: middle;\n",
       "    }\n",
       "\n",
       "    .dataframe tbody tr th {\n",
       "        vertical-align: top;\n",
       "    }\n",
       "\n",
       "    .dataframe thead th {\n",
       "        text-align: right;\n",
       "    }\n",
       "</style>\n",
       "<table border=\"1\" class=\"dataframe\">\n",
       "  <thead>\n",
       "    <tr style=\"text-align: right;\">\n",
       "      <th></th>\n",
       "      <th>eventid</th>\n",
       "      <th>iyear</th>\n",
       "      <th>imonth</th>\n",
       "      <th>iday</th>\n",
       "      <th>approxdate</th>\n",
       "      <th>extended</th>\n",
       "      <th>resolution</th>\n",
       "      <th>country</th>\n",
       "      <th>country_txt</th>\n",
       "      <th>region</th>\n",
       "      <th>...</th>\n",
       "      <th>addnotes</th>\n",
       "      <th>scite1</th>\n",
       "      <th>scite2</th>\n",
       "      <th>scite3</th>\n",
       "      <th>dbsource</th>\n",
       "      <th>INT_LOG</th>\n",
       "      <th>INT_IDEO</th>\n",
       "      <th>INT_MISC</th>\n",
       "      <th>INT_ANY</th>\n",
       "      <th>related</th>\n",
       "    </tr>\n",
       "  </thead>\n",
       "  <tbody>\n",
       "    <tr>\n",
       "      <th>0</th>\n",
       "      <td>197000000001</td>\n",
       "      <td>1970</td>\n",
       "      <td>7</td>\n",
       "      <td>2</td>\n",
       "      <td>NaN</td>\n",
       "      <td>0</td>\n",
       "      <td>NaN</td>\n",
       "      <td>58</td>\n",
       "      <td>Dominican Republic</td>\n",
       "      <td>2</td>\n",
       "      <td>...</td>\n",
       "      <td>NaN</td>\n",
       "      <td>NaN</td>\n",
       "      <td>NaN</td>\n",
       "      <td>NaN</td>\n",
       "      <td>PGIS</td>\n",
       "      <td>0</td>\n",
       "      <td>0</td>\n",
       "      <td>0</td>\n",
       "      <td>0</td>\n",
       "      <td>NaN</td>\n",
       "    </tr>\n",
       "    <tr>\n",
       "      <th>1</th>\n",
       "      <td>197000000002</td>\n",
       "      <td>1970</td>\n",
       "      <td>0</td>\n",
       "      <td>0</td>\n",
       "      <td>NaN</td>\n",
       "      <td>0</td>\n",
       "      <td>NaN</td>\n",
       "      <td>130</td>\n",
       "      <td>Mexico</td>\n",
       "      <td>1</td>\n",
       "      <td>...</td>\n",
       "      <td>NaN</td>\n",
       "      <td>NaN</td>\n",
       "      <td>NaN</td>\n",
       "      <td>NaN</td>\n",
       "      <td>PGIS</td>\n",
       "      <td>0</td>\n",
       "      <td>1</td>\n",
       "      <td>1</td>\n",
       "      <td>1</td>\n",
       "      <td>NaN</td>\n",
       "    </tr>\n",
       "    <tr>\n",
       "      <th>2</th>\n",
       "      <td>197001000001</td>\n",
       "      <td>1970</td>\n",
       "      <td>1</td>\n",
       "      <td>0</td>\n",
       "      <td>NaN</td>\n",
       "      <td>0</td>\n",
       "      <td>NaN</td>\n",
       "      <td>160</td>\n",
       "      <td>Philippines</td>\n",
       "      <td>5</td>\n",
       "      <td>...</td>\n",
       "      <td>NaN</td>\n",
       "      <td>NaN</td>\n",
       "      <td>NaN</td>\n",
       "      <td>NaN</td>\n",
       "      <td>PGIS</td>\n",
       "      <td>-9</td>\n",
       "      <td>-9</td>\n",
       "      <td>1</td>\n",
       "      <td>1</td>\n",
       "      <td>NaN</td>\n",
       "    </tr>\n",
       "    <tr>\n",
       "      <th>3</th>\n",
       "      <td>197001000002</td>\n",
       "      <td>1970</td>\n",
       "      <td>1</td>\n",
       "      <td>0</td>\n",
       "      <td>NaN</td>\n",
       "      <td>0</td>\n",
       "      <td>NaN</td>\n",
       "      <td>78</td>\n",
       "      <td>Greece</td>\n",
       "      <td>8</td>\n",
       "      <td>...</td>\n",
       "      <td>NaN</td>\n",
       "      <td>NaN</td>\n",
       "      <td>NaN</td>\n",
       "      <td>NaN</td>\n",
       "      <td>PGIS</td>\n",
       "      <td>-9</td>\n",
       "      <td>-9</td>\n",
       "      <td>1</td>\n",
       "      <td>1</td>\n",
       "      <td>NaN</td>\n",
       "    </tr>\n",
       "    <tr>\n",
       "      <th>4</th>\n",
       "      <td>197001000003</td>\n",
       "      <td>1970</td>\n",
       "      <td>1</td>\n",
       "      <td>0</td>\n",
       "      <td>NaN</td>\n",
       "      <td>0</td>\n",
       "      <td>NaN</td>\n",
       "      <td>101</td>\n",
       "      <td>Japan</td>\n",
       "      <td>4</td>\n",
       "      <td>...</td>\n",
       "      <td>NaN</td>\n",
       "      <td>NaN</td>\n",
       "      <td>NaN</td>\n",
       "      <td>NaN</td>\n",
       "      <td>PGIS</td>\n",
       "      <td>-9</td>\n",
       "      <td>-9</td>\n",
       "      <td>1</td>\n",
       "      <td>1</td>\n",
       "      <td>NaN</td>\n",
       "    </tr>\n",
       "  </tbody>\n",
       "</table>\n",
       "<p>5 rows × 135 columns</p>\n",
       "</div>"
      ],
      "text/plain": [
       "        eventid  iyear  imonth  iday approxdate  extended resolution  country  \\\n",
       "0  197000000001   1970       7     2        NaN         0        NaN       58   \n",
       "1  197000000002   1970       0     0        NaN         0        NaN      130   \n",
       "2  197001000001   1970       1     0        NaN         0        NaN      160   \n",
       "3  197001000002   1970       1     0        NaN         0        NaN       78   \n",
       "4  197001000003   1970       1     0        NaN         0        NaN      101   \n",
       "\n",
       "          country_txt  region  ... addnotes scite1 scite2  scite3  dbsource  \\\n",
       "0  Dominican Republic       2  ...      NaN    NaN    NaN     NaN      PGIS   \n",
       "1              Mexico       1  ...      NaN    NaN    NaN     NaN      PGIS   \n",
       "2         Philippines       5  ...      NaN    NaN    NaN     NaN      PGIS   \n",
       "3              Greece       8  ...      NaN    NaN    NaN     NaN      PGIS   \n",
       "4               Japan       4  ...      NaN    NaN    NaN     NaN      PGIS   \n",
       "\n",
       "   INT_LOG  INT_IDEO INT_MISC INT_ANY  related  \n",
       "0        0         0        0       0      NaN  \n",
       "1        0         1        1       1      NaN  \n",
       "2       -9        -9        1       1      NaN  \n",
       "3       -9        -9        1       1      NaN  \n",
       "4       -9        -9        1       1      NaN  \n",
       "\n",
       "[5 rows x 135 columns]"
      ]
     },
     "execution_count": 2,
     "metadata": {},
     "output_type": "execute_result"
    }
   ],
   "source": [
    "data = pd.read_csv('globalterrorismdb_0718dist.csv' ,encoding= 'ISO-8859-1')  \n",
    "print(f'Data Shape is {data.shape}')\n",
    "data.head()"
   ]
  },
  {
   "cell_type": "markdown",
   "metadata": {},
   "source": [
    "____\n",
    "\n",
    "now it's time to define needed functions\n"
   ]
  },
  {
   "cell_type": "code",
   "execution_count": 3,
   "metadata": {},
   "outputs": [],
   "source": [
    "def drop(feature) :\n",
    "    global data\n",
    "    data.drop([feature],axis=1, inplace=True)\n",
    "    data.head()\n",
    "\n",
    "def unique(feature) : \n",
    "    global data\n",
    "    print(f'Number of unique vaure are {len(list(data[feature].unique()))} which are : \\n {list(data[feature].unique())}')\n",
    "\n",
    "def unique_all(show_value = True) : \n",
    "    global data\n",
    "    for col in data.columns : \n",
    "        print(f'Length of unique data for   {col}   is    {len(data[col].unique())} ')\n",
    "        if show_value == True  : \n",
    "            print(f'unique values ae {data[col].unique()}' )\n",
    "            print('-----------------------------')\n",
    "\n",
    "def drop_nulls(percentage = 0.3) : \n",
    "    global data\n",
    "    for col in data.columns : \n",
    "        ratio =  data[col].isna().sum()/data.shape[0]\n",
    "        if ratio >= percentage : \n",
    "            data.drop([col],axis=1, inplace=True)\n",
    "            print(f'Column {col} has been dropped since nulls percentage is {round(ratio *100)} %')\n",
    "\n",
    "def count_nulls() : \n",
    "    global data\n",
    "    for col in data.columns : \n",
    "        if not data[col].isna().sum() == 0 : \n",
    "            print(f'Column {col} has been number of nulls {data[col].isna().sum()}')\n",
    "\n",
    "\n",
    "def fillna(feature , val = 'none') : \n",
    "    global data\n",
    "    data[feature].fillna(val, inplace=True)\n",
    "\n",
    "def cplot(feature) : \n",
    "    global data\n",
    "    sns.countplot(x=feature, data=data,facecolor=(0, 0, 0, 0),linewidth=5,edgecolor=sns.color_palette(\"dark\", 3))\n",
    "\n",
    "def spie(series) : \n",
    "    global data\n",
    "    plt.pie(series.values,labels=list(series.index),autopct ='%1.2f%%',labeldistance = 1.1,explode = [0.05 for i in range(len(series.values))])\n",
    "    plt.show()\n",
    "\n",
    "def pie(feature) : \n",
    "    global data\n",
    "    plt.pie(data[feature].value_counts(),labels=list(data[feature].value_counts().index),\n",
    "        autopct ='%1.2f%%' , labeldistance = 1.1,explode = [0.05 for i in range(len(data[feature].value_counts()))] )\n",
    "    plt.show()\n",
    "\n",
    "def make_xy(feature) : \n",
    "    global data\n",
    "    X = data.drop([feature], axis=1, inplace=False)\n",
    "    y = data[feature]\n",
    "    return X , y\n",
    "   \n",
    "def encoder(feature , new_feature, drop = True) : \n",
    "    global data\n",
    "    enc  = LabelEncoder()\n",
    "    enc.fit(data[feature])\n",
    "    data[new_feature] = enc.transform(data[feature])\n",
    "    if drop == True : \n",
    "        data.drop([feature],axis=1, inplace=True)\n",
    "    \n",
    "def max_counts(feature, number, return_rest = False) : \n",
    "    global data\n",
    "    counts = data[feature].value_counts()\n",
    "    values_list = list(counts[:number].values)\n",
    "    rest_value =  sum(counts.values) - sum (values_list)\n",
    "    index_list = list(counts[:number].index)\n",
    "\n",
    "    if return_rest : \n",
    "        values_list.append(rest_value )\n",
    "        index_list.append('rest items')\n",
    "\n",
    "    result = pd.Series(values_list, index=index_list)\n",
    "\n",
    "    if len(data[feature]) <= number : \n",
    "        result = None\n",
    "    return result\n",
    "\n",
    "def remove_zero(feature , val = 0) :\n",
    "    global data\n",
    "    data = data[data[feature] != val]\n",
    "    \n",
    "def show_details() : \n",
    "    global data\n",
    "    for col in data.columns : \n",
    "        print(f'for feature : {col}')\n",
    "        print(f'Number of Nulls is   {data[col].isna().sum()}')\n",
    "        print(f'Number of Unique values is   {len(data[col].unique())}')\n",
    "        print(f'random Value {data[col][0]}')\n",
    "        print(f'random Value {data[col][10]}')\n",
    "        print(f'random Value {data[col][20]}')\n",
    "        print('--------------------------')\n"
   ]
  },
  {
   "cell_type": "markdown",
   "metadata": {},
   "source": [
    "____\n",
    "\n",
    "# Data Cleaning\n",
    "\n",
    "now let's know the data shape"
   ]
  },
  {
   "cell_type": "code",
   "execution_count": 4,
   "metadata": {},
   "outputs": [
    {
     "data": {
      "text/plain": [
       "(181691, 135)"
      ]
     },
     "execution_count": 4,
     "metadata": {},
     "output_type": "execute_result"
    }
   ],
   "source": [
    "data.shape"
   ]
  },
  {
   "cell_type": "markdown",
   "metadata": {},
   "source": [
    "ok , 135 features ,  but since several features got so much nulls , so it will mislead us in the training . \n",
    "\n",
    "so let's drop all features with null value covers more than 30% of all rows "
   ]
  },
  {
   "cell_type": "code",
   "execution_count": 5,
   "metadata": {},
   "outputs": [
    {
     "name": "stdout",
     "output_type": "stream",
     "text": [
      "Column approxdate has been dropped since nulls percentage is 95.0 %\n",
      "Column resolution has been dropped since nulls percentage is 99.0 %\n",
      "Column location has been dropped since nulls percentage is 69.0 %\n",
      "Column summary has been dropped since nulls percentage is 36.0 %\n",
      "Column alternative has been dropped since nulls percentage is 84.0 %\n",
      "Column alternative_txt has been dropped since nulls percentage is 84.0 %\n",
      "Column attacktype2 has been dropped since nulls percentage is 97.0 %\n",
      "Column attacktype2_txt has been dropped since nulls percentage is 97.0 %\n",
      "Column attacktype3 has been dropped since nulls percentage is 100.0 %\n",
      "Column attacktype3_txt has been dropped since nulls percentage is 100.0 %\n",
      "Column targtype2 has been dropped since nulls percentage is 94.0 %\n",
      "Column targtype2_txt has been dropped since nulls percentage is 94.0 %\n",
      "Column targsubtype2 has been dropped since nulls percentage is 94.0 %\n",
      "Column targsubtype2_txt has been dropped since nulls percentage is 94.0 %\n",
      "Column corp2 has been dropped since nulls percentage is 94.0 %\n",
      "Column target2 has been dropped since nulls percentage is 94.0 %\n",
      "Column natlty2 has been dropped since nulls percentage is 94.0 %\n",
      "Column natlty2_txt has been dropped since nulls percentage is 94.0 %\n",
      "Column targtype3 has been dropped since nulls percentage is 99.0 %\n",
      "Column targtype3_txt has been dropped since nulls percentage is 99.0 %\n",
      "Column targsubtype3 has been dropped since nulls percentage is 99.0 %\n",
      "Column targsubtype3_txt has been dropped since nulls percentage is 99.0 %\n",
      "Column corp3 has been dropped since nulls percentage is 99.0 %\n",
      "Column target3 has been dropped since nulls percentage is 99.0 %\n",
      "Column natlty3 has been dropped since nulls percentage is 99.0 %\n",
      "Column natlty3_txt has been dropped since nulls percentage is 99.0 %\n",
      "Column gsubname has been dropped since nulls percentage is 97.0 %\n",
      "Column gname2 has been dropped since nulls percentage is 99.0 %\n",
      "Column gsubname2 has been dropped since nulls percentage is 100.0 %\n",
      "Column gname3 has been dropped since nulls percentage is 100.0 %\n",
      "Column gsubname3 has been dropped since nulls percentage is 100.0 %\n",
      "Column motive has been dropped since nulls percentage is 72.0 %\n",
      "Column guncertain2 has been dropped since nulls percentage is 99.0 %\n",
      "Column guncertain3 has been dropped since nulls percentage is 100.0 %\n",
      "Column nperps has been dropped since nulls percentage is 39.0 %\n",
      "Column nperpcap has been dropped since nulls percentage is 38.0 %\n",
      "Column claimed has been dropped since nulls percentage is 36.0 %\n",
      "Column claimmode has been dropped since nulls percentage is 89.0 %\n",
      "Column claimmode_txt has been dropped since nulls percentage is 89.0 %\n",
      "Column claim2 has been dropped since nulls percentage is 99.0 %\n",
      "Column claimmode2 has been dropped since nulls percentage is 100.0 %\n",
      "Column claimmode2_txt has been dropped since nulls percentage is 100.0 %\n",
      "Column claim3 has been dropped since nulls percentage is 100.0 %\n",
      "Column claimmode3 has been dropped since nulls percentage is 100.0 %\n",
      "Column claimmode3_txt has been dropped since nulls percentage is 100.0 %\n",
      "Column compclaim has been dropped since nulls percentage is 97.0 %\n",
      "Column weaptype2 has been dropped since nulls percentage is 93.0 %\n",
      "Column weaptype2_txt has been dropped since nulls percentage is 93.0 %\n",
      "Column weapsubtype2 has been dropped since nulls percentage is 94.0 %\n",
      "Column weapsubtype2_txt has been dropped since nulls percentage is 94.0 %\n",
      "Column weaptype3 has been dropped since nulls percentage is 99.0 %\n",
      "Column weaptype3_txt has been dropped since nulls percentage is 99.0 %\n",
      "Column weapsubtype3 has been dropped since nulls percentage is 99.0 %\n",
      "Column weapsubtype3_txt has been dropped since nulls percentage is 99.0 %\n",
      "Column weaptype4 has been dropped since nulls percentage is 100.0 %\n",
      "Column weaptype4_txt has been dropped since nulls percentage is 100.0 %\n",
      "Column weapsubtype4 has been dropped since nulls percentage is 100.0 %\n",
      "Column weapsubtype4_txt has been dropped since nulls percentage is 100.0 %\n",
      "Column weapdetail has been dropped since nulls percentage is 37.0 %\n",
      "Column nkillus has been dropped since nulls percentage is 35.0 %\n",
      "Column nkillter has been dropped since nulls percentage is 37.0 %\n",
      "Column nwoundus has been dropped since nulls percentage is 36.0 %\n",
      "Column nwoundte has been dropped since nulls percentage is 38.0 %\n",
      "Column propextent has been dropped since nulls percentage is 65.0 %\n",
      "Column propextent_txt has been dropped since nulls percentage is 65.0 %\n",
      "Column propvalue has been dropped since nulls percentage is 79.0 %\n",
      "Column propcomment has been dropped since nulls percentage is 68.0 %\n",
      "Column nhostkid has been dropped since nulls percentage is 93.0 %\n",
      "Column nhostkidus has been dropped since nulls percentage is 93.0 %\n",
      "Column nhours has been dropped since nulls percentage is 98.0 %\n",
      "Column ndays has been dropped since nulls percentage is 96.0 %\n",
      "Column divert has been dropped since nulls percentage is 100.0 %\n",
      "Column kidhijcountry has been dropped since nulls percentage is 98.0 %\n",
      "Column ransom has been dropped since nulls percentage is 57.0 %\n",
      "Column ransomamt has been dropped since nulls percentage is 99.0 %\n",
      "Column ransomamtus has been dropped since nulls percentage is 100.0 %\n",
      "Column ransompaid has been dropped since nulls percentage is 100.0 %\n",
      "Column ransompaidus has been dropped since nulls percentage is 100.0 %\n",
      "Column ransomnote has been dropped since nulls percentage is 100.0 %\n",
      "Column hostkidoutcome has been dropped since nulls percentage is 94.0 %\n",
      "Column hostkidoutcome_txt has been dropped since nulls percentage is 94.0 %\n",
      "Column nreleased has been dropped since nulls percentage is 94.0 %\n",
      "Column addnotes has been dropped since nulls percentage is 84.0 %\n",
      "Column scite1 has been dropped since nulls percentage is 36.0 %\n",
      "Column scite2 has been dropped since nulls percentage is 58.0 %\n",
      "Column scite3 has been dropped since nulls percentage is 76.0 %\n",
      "Column related has been dropped since nulls percentage is 86.0 %\n"
     ]
    }
   ],
   "source": [
    "drop_nulls()"
   ]
  },
  {
   "cell_type": "markdown",
   "metadata": {},
   "source": [
    "_____\n",
    "\n",
    "now what is the shape  ? "
   ]
  },
  {
   "cell_type": "code",
   "execution_count": 6,
   "metadata": {},
   "outputs": [
    {
     "data": {
      "text/plain": [
       "(181691, 48)"
      ]
     },
     "execution_count": 6,
     "metadata": {},
     "output_type": "execute_result"
    }
   ],
   "source": [
    "data.shape"
   ]
  },
  {
   "cell_type": "markdown",
   "metadata": {},
   "source": [
    "almost 100 feature are dropped . \n",
    "\n",
    "now we'll drop ventid feature since it is not helpful , & also several numerical features which got exact values as text like country & region \n",
    "\n"
   ]
  },
  {
   "cell_type": "code",
   "execution_count": 7,
   "metadata": {},
   "outputs": [],
   "source": [
    "drop('eventid')\n",
    "drop('country')\n",
    "drop('region')\n",
    "drop('attacktype1')\n",
    "drop('targtype1')\n",
    "drop('targsubtype1')\n",
    "drop('natlty1')\n",
    "drop('weaptype1')\n",
    "drop('weapsubtype1')"
   ]
  },
  {
   "cell_type": "markdown",
   "metadata": {},
   "source": [
    "now how it looks "
   ]
  },
  {
   "cell_type": "code",
   "execution_count": 8,
   "metadata": {},
   "outputs": [
    {
     "data": {
      "text/html": [
       "<div>\n",
       "<style scoped>\n",
       "    .dataframe tbody tr th:only-of-type {\n",
       "        vertical-align: middle;\n",
       "    }\n",
       "\n",
       "    .dataframe tbody tr th {\n",
       "        vertical-align: top;\n",
       "    }\n",
       "\n",
       "    .dataframe thead th {\n",
       "        text-align: right;\n",
       "    }\n",
       "</style>\n",
       "<table border=\"1\" class=\"dataframe\">\n",
       "  <thead>\n",
       "    <tr style=\"text-align: right;\">\n",
       "      <th></th>\n",
       "      <th>iyear</th>\n",
       "      <th>imonth</th>\n",
       "      <th>iday</th>\n",
       "      <th>extended</th>\n",
       "      <th>country_txt</th>\n",
       "      <th>region_txt</th>\n",
       "      <th>provstate</th>\n",
       "      <th>city</th>\n",
       "      <th>latitude</th>\n",
       "      <th>longitude</th>\n",
       "      <th>...</th>\n",
       "      <th>weapsubtype1_txt</th>\n",
       "      <th>nkill</th>\n",
       "      <th>nwound</th>\n",
       "      <th>property</th>\n",
       "      <th>ishostkid</th>\n",
       "      <th>dbsource</th>\n",
       "      <th>INT_LOG</th>\n",
       "      <th>INT_IDEO</th>\n",
       "      <th>INT_MISC</th>\n",
       "      <th>INT_ANY</th>\n",
       "    </tr>\n",
       "  </thead>\n",
       "  <tbody>\n",
       "    <tr>\n",
       "      <th>0</th>\n",
       "      <td>1970</td>\n",
       "      <td>7</td>\n",
       "      <td>2</td>\n",
       "      <td>0</td>\n",
       "      <td>Dominican Republic</td>\n",
       "      <td>Central America &amp; Caribbean</td>\n",
       "      <td>NaN</td>\n",
       "      <td>Santo Domingo</td>\n",
       "      <td>18.456792</td>\n",
       "      <td>-69.951164</td>\n",
       "      <td>...</td>\n",
       "      <td>NaN</td>\n",
       "      <td>1.0</td>\n",
       "      <td>0.0</td>\n",
       "      <td>0</td>\n",
       "      <td>0.0</td>\n",
       "      <td>PGIS</td>\n",
       "      <td>0</td>\n",
       "      <td>0</td>\n",
       "      <td>0</td>\n",
       "      <td>0</td>\n",
       "    </tr>\n",
       "    <tr>\n",
       "      <th>1</th>\n",
       "      <td>1970</td>\n",
       "      <td>0</td>\n",
       "      <td>0</td>\n",
       "      <td>0</td>\n",
       "      <td>Mexico</td>\n",
       "      <td>North America</td>\n",
       "      <td>Federal</td>\n",
       "      <td>Mexico city</td>\n",
       "      <td>19.371887</td>\n",
       "      <td>-99.086624</td>\n",
       "      <td>...</td>\n",
       "      <td>NaN</td>\n",
       "      <td>0.0</td>\n",
       "      <td>0.0</td>\n",
       "      <td>0</td>\n",
       "      <td>1.0</td>\n",
       "      <td>PGIS</td>\n",
       "      <td>0</td>\n",
       "      <td>1</td>\n",
       "      <td>1</td>\n",
       "      <td>1</td>\n",
       "    </tr>\n",
       "    <tr>\n",
       "      <th>2</th>\n",
       "      <td>1970</td>\n",
       "      <td>1</td>\n",
       "      <td>0</td>\n",
       "      <td>0</td>\n",
       "      <td>Philippines</td>\n",
       "      <td>Southeast Asia</td>\n",
       "      <td>Tarlac</td>\n",
       "      <td>Unknown</td>\n",
       "      <td>15.478598</td>\n",
       "      <td>120.599741</td>\n",
       "      <td>...</td>\n",
       "      <td>NaN</td>\n",
       "      <td>1.0</td>\n",
       "      <td>0.0</td>\n",
       "      <td>0</td>\n",
       "      <td>0.0</td>\n",
       "      <td>PGIS</td>\n",
       "      <td>-9</td>\n",
       "      <td>-9</td>\n",
       "      <td>1</td>\n",
       "      <td>1</td>\n",
       "    </tr>\n",
       "    <tr>\n",
       "      <th>3</th>\n",
       "      <td>1970</td>\n",
       "      <td>1</td>\n",
       "      <td>0</td>\n",
       "      <td>0</td>\n",
       "      <td>Greece</td>\n",
       "      <td>Western Europe</td>\n",
       "      <td>Attica</td>\n",
       "      <td>Athens</td>\n",
       "      <td>37.997490</td>\n",
       "      <td>23.762728</td>\n",
       "      <td>...</td>\n",
       "      <td>Unknown Explosive Type</td>\n",
       "      <td>NaN</td>\n",
       "      <td>NaN</td>\n",
       "      <td>1</td>\n",
       "      <td>0.0</td>\n",
       "      <td>PGIS</td>\n",
       "      <td>-9</td>\n",
       "      <td>-9</td>\n",
       "      <td>1</td>\n",
       "      <td>1</td>\n",
       "    </tr>\n",
       "    <tr>\n",
       "      <th>4</th>\n",
       "      <td>1970</td>\n",
       "      <td>1</td>\n",
       "      <td>0</td>\n",
       "      <td>0</td>\n",
       "      <td>Japan</td>\n",
       "      <td>East Asia</td>\n",
       "      <td>Fukouka</td>\n",
       "      <td>Fukouka</td>\n",
       "      <td>33.580412</td>\n",
       "      <td>130.396361</td>\n",
       "      <td>...</td>\n",
       "      <td>NaN</td>\n",
       "      <td>NaN</td>\n",
       "      <td>NaN</td>\n",
       "      <td>1</td>\n",
       "      <td>0.0</td>\n",
       "      <td>PGIS</td>\n",
       "      <td>-9</td>\n",
       "      <td>-9</td>\n",
       "      <td>1</td>\n",
       "      <td>1</td>\n",
       "    </tr>\n",
       "  </tbody>\n",
       "</table>\n",
       "<p>5 rows × 39 columns</p>\n",
       "</div>"
      ],
      "text/plain": [
       "   iyear  imonth  iday  extended         country_txt  \\\n",
       "0   1970       7     2         0  Dominican Republic   \n",
       "1   1970       0     0         0              Mexico   \n",
       "2   1970       1     0         0         Philippines   \n",
       "3   1970       1     0         0              Greece   \n",
       "4   1970       1     0         0               Japan   \n",
       "\n",
       "                    region_txt provstate           city   latitude  \\\n",
       "0  Central America & Caribbean       NaN  Santo Domingo  18.456792   \n",
       "1                North America   Federal    Mexico city  19.371887   \n",
       "2               Southeast Asia    Tarlac        Unknown  15.478598   \n",
       "3               Western Europe    Attica         Athens  37.997490   \n",
       "4                    East Asia   Fukouka        Fukouka  33.580412   \n",
       "\n",
       "    longitude  ...        weapsubtype1_txt  nkill  nwound  property  \\\n",
       "0  -69.951164  ...                     NaN    1.0     0.0         0   \n",
       "1  -99.086624  ...                     NaN    0.0     0.0         0   \n",
       "2  120.599741  ...                     NaN    1.0     0.0         0   \n",
       "3   23.762728  ...  Unknown Explosive Type    NaN     NaN         1   \n",
       "4  130.396361  ...                     NaN    NaN     NaN         1   \n",
       "\n",
       "   ishostkid  dbsource  INT_LOG  INT_IDEO  INT_MISC INT_ANY  \n",
       "0        0.0      PGIS        0         0         0       0  \n",
       "1        1.0      PGIS        0         1         1       1  \n",
       "2        0.0      PGIS       -9        -9         1       1  \n",
       "3        0.0      PGIS       -9        -9         1       1  \n",
       "4        0.0      PGIS       -9        -9         1       1  \n",
       "\n",
       "[5 rows x 39 columns]"
      ]
     },
     "execution_count": 8,
     "metadata": {},
     "output_type": "execute_result"
    }
   ],
   "source": [
    "data.head()"
   ]
  },
  {
   "cell_type": "markdown",
   "metadata": {},
   "source": [
    "_____\n",
    "\n",
    "now let's have a look to unique values for each feature "
   ]
  },
  {
   "cell_type": "code",
   "execution_count": 9,
   "metadata": {},
   "outputs": [
    {
     "name": "stdout",
     "output_type": "stream",
     "text": [
      "Length of unique data for   iyear   is    47 \n",
      "Length of unique data for   imonth   is    13 \n",
      "Length of unique data for   iday   is    32 \n",
      "Length of unique data for   extended   is    2 \n",
      "Length of unique data for   country_txt   is    205 \n",
      "Length of unique data for   region_txt   is    12 \n",
      "Length of unique data for   provstate   is    2856 \n",
      "Length of unique data for   city   is    36675 \n",
      "Length of unique data for   latitude   is    48323 \n",
      "Length of unique data for   longitude   is    48040 \n",
      "Length of unique data for   specificity   is    6 \n",
      "Length of unique data for   vicinity   is    3 \n",
      "Length of unique data for   crit1   is    2 \n",
      "Length of unique data for   crit2   is    2 \n",
      "Length of unique data for   crit3   is    2 \n",
      "Length of unique data for   doubtterr   is    4 \n",
      "Length of unique data for   multiple   is    3 \n",
      "Length of unique data for   success   is    2 \n",
      "Length of unique data for   suicide   is    2 \n",
      "Length of unique data for   attacktype1_txt   is    9 \n",
      "Length of unique data for   targtype1_txt   is    22 \n",
      "Length of unique data for   targsubtype1_txt   is    113 \n",
      "Length of unique data for   corp1   is    33239 \n",
      "Length of unique data for   target1   is    86007 \n",
      "Length of unique data for   natlty1_txt   is    216 \n",
      "Length of unique data for   gname   is    3537 \n",
      "Length of unique data for   guncertain1   is    3 \n",
      "Length of unique data for   individual   is    2 \n",
      "Length of unique data for   weaptype1_txt   is    12 \n",
      "Length of unique data for   weapsubtype1_txt   is    31 \n",
      "Length of unique data for   nkill   is    206 \n",
      "Length of unique data for   nwound   is    239 \n",
      "Length of unique data for   property   is    3 \n",
      "Length of unique data for   ishostkid   is    4 \n",
      "Length of unique data for   dbsource   is    26 \n",
      "Length of unique data for   INT_LOG   is    3 \n",
      "Length of unique data for   INT_IDEO   is    3 \n",
      "Length of unique data for   INT_MISC   is    3 \n",
      "Length of unique data for   INT_ANY   is    3 \n"
     ]
    }
   ],
   "source": [
    "unique_all(False)"
   ]
  },
  {
   "cell_type": "markdown",
   "metadata": {},
   "source": [
    "& how many nulls are there  ? "
   ]
  },
  {
   "cell_type": "code",
   "execution_count": 10,
   "metadata": {},
   "outputs": [
    {
     "name": "stdout",
     "output_type": "stream",
     "text": [
      "Column provstate has been number of nulls 421\n",
      "Column city has been number of nulls 434\n",
      "Column latitude has been number of nulls 4556\n",
      "Column longitude has been number of nulls 4557\n",
      "Column specificity has been number of nulls 6\n",
      "Column doubtterr has been number of nulls 1\n",
      "Column multiple has been number of nulls 1\n",
      "Column targsubtype1_txt has been number of nulls 10373\n",
      "Column corp1 has been number of nulls 42550\n",
      "Column target1 has been number of nulls 636\n",
      "Column natlty1_txt has been number of nulls 1559\n",
      "Column guncertain1 has been number of nulls 380\n",
      "Column weapsubtype1_txt has been number of nulls 20768\n",
      "Column nkill has been number of nulls 10313\n",
      "Column nwound has been number of nulls 16311\n",
      "Column ishostkid has been number of nulls 178\n"
     ]
    }
   ],
   "source": [
    "count_nulls()"
   ]
  },
  {
   "cell_type": "markdown",
   "metadata": {},
   "source": [
    "also we need to have a detailed look so all data "
   ]
  },
  {
   "cell_type": "code",
   "execution_count": 11,
   "metadata": {},
   "outputs": [
    {
     "name": "stdout",
     "output_type": "stream",
     "text": [
      "for feature : iyear\n",
      "Number of Nulls is   0\n",
      "Number of Unique values is   47\n",
      "random Value 1970\n",
      "random Value 1970\n",
      "random Value 1970\n",
      "--------------------------\n",
      "for feature : imonth\n",
      "Number of Nulls is   0\n",
      "Number of Unique values is   13\n",
      "random Value 7\n",
      "random Value 1\n",
      "random Value 1\n",
      "--------------------------\n",
      "for feature : iday\n",
      "Number of Nulls is   0\n",
      "Number of Unique values is   32\n",
      "random Value 2\n",
      "random Value 1\n",
      "random Value 14\n",
      "--------------------------\n",
      "for feature : extended\n",
      "Number of Nulls is   0\n",
      "Number of Unique values is   2\n",
      "random Value 0\n",
      "random Value 0\n",
      "random Value 0\n",
      "--------------------------\n",
      "for feature : country_txt\n",
      "Number of Nulls is   0\n",
      "Number of Unique values is   205\n",
      "random Value Dominican Republic\n",
      "random Value United States\n",
      "random Value United States\n",
      "--------------------------\n",
      "for feature : region_txt\n",
      "Number of Nulls is   0\n",
      "Number of Unique values is   12\n",
      "random Value Central America & Caribbean\n",
      "random Value North America\n",
      "random Value North America\n",
      "--------------------------\n",
      "for feature : provstate\n",
      "Number of Nulls is   421\n",
      "Number of Unique values is   2856\n",
      "random Value nan\n",
      "random Value Wisconsin\n",
      "random Value Illinois\n",
      "--------------------------\n",
      "for feature : city\n",
      "Number of Nulls is   434\n",
      "Number of Unique values is   36675\n",
      "random Value Santo Domingo\n",
      "random Value Baraboo\n",
      "random Value Champaign\n",
      "--------------------------\n",
      "for feature : latitude\n",
      "Number of Nulls is   4556\n",
      "Number of Unique values is   48323\n",
      "random Value 18.456792\n",
      "random Value 43.4685\n",
      "random Value 40.116748\n",
      "--------------------------\n",
      "for feature : longitude\n",
      "Number of Nulls is   4557\n",
      "Number of Unique values is   48040\n",
      "random Value -69.951164\n",
      "random Value -89.744299\n",
      "random Value -88.23926999999999\n",
      "--------------------------\n",
      "for feature : specificity\n",
      "Number of Nulls is   6\n",
      "Number of Unique values is   6\n",
      "random Value 1.0\n",
      "random Value 1.0\n",
      "random Value 1.0\n",
      "--------------------------\n",
      "for feature : vicinity\n",
      "Number of Nulls is   0\n",
      "Number of Unique values is   3\n",
      "random Value 0\n",
      "random Value 0\n",
      "random Value 0\n",
      "--------------------------\n",
      "for feature : crit1\n",
      "Number of Nulls is   0\n",
      "Number of Unique values is   2\n",
      "random Value 1\n",
      "random Value 1\n",
      "random Value 1\n",
      "--------------------------\n",
      "for feature : crit2\n",
      "Number of Nulls is   0\n",
      "Number of Unique values is   2\n",
      "random Value 1\n",
      "random Value 1\n",
      "random Value 1\n",
      "--------------------------\n",
      "for feature : crit3\n",
      "Number of Nulls is   0\n",
      "Number of Unique values is   2\n",
      "random Value 1\n",
      "random Value 0\n",
      "random Value 1\n",
      "--------------------------\n",
      "for feature : doubtterr\n",
      "Number of Nulls is   1\n",
      "Number of Unique values is   4\n",
      "random Value 0.0\n",
      "random Value 1.0\n",
      "random Value 0.0\n",
      "--------------------------\n",
      "for feature : multiple\n",
      "Number of Nulls is   1\n",
      "Number of Unique values is   3\n",
      "random Value 0.0\n",
      "random Value 0.0\n",
      "random Value 0.0\n",
      "--------------------------\n",
      "for feature : success\n",
      "Number of Nulls is   0\n",
      "Number of Unique values is   2\n",
      "random Value 1\n",
      "random Value 0\n",
      "random Value 1\n",
      "--------------------------\n",
      "for feature : suicide\n",
      "Number of Nulls is   0\n",
      "Number of Unique values is   2\n",
      "random Value 0\n",
      "random Value 0\n",
      "random Value 0\n",
      "--------------------------\n",
      "for feature : attacktype1_txt\n",
      "Number of Nulls is   0\n",
      "Number of Unique values is   9\n",
      "random Value Assassination\n",
      "random Value Bombing/Explosion\n",
      "random Value Facility/Infrastructure Attack\n",
      "--------------------------\n",
      "for feature : targtype1_txt\n",
      "Number of Nulls is   0\n",
      "Number of Unique values is   22\n",
      "random Value Private Citizens & Property\n",
      "random Value Military\n",
      "random Value Police\n",
      "--------------------------\n",
      "for feature : targsubtype1_txt\n",
      "Number of Nulls is   10373\n",
      "Number of Unique values is   113\n",
      "random Value Named Civilian\n",
      "random Value Military Barracks/Base/Headquarters/Checkpost\n",
      "random Value Police Building (headquarters, station, school)\n",
      "--------------------------\n",
      "for feature : corp1\n",
      "Number of Nulls is   42550\n",
      "Number of Unique values is   33239\n",
      "random Value nan\n",
      "random Value nan\n",
      "random Value Police Department\n",
      "--------------------------\n",
      "for feature : target1\n",
      "Number of Nulls is   636\n",
      "Number of Unique values is   86007\n",
      "random Value Julio Guzman\n",
      "random Value Badger Army ammo depot.\n",
      "random Value Champaign Police Department\n",
      "--------------------------\n",
      "for feature : natlty1_txt\n",
      "Number of Nulls is   1559\n",
      "Number of Unique values is   216\n",
      "random Value Dominican Republic\n",
      "random Value United States\n",
      "random Value United States\n",
      "--------------------------\n",
      "for feature : gname\n",
      "Number of Nulls is   0\n",
      "Number of Unique values is   3537\n",
      "random Value MANO-D\n",
      "random Value Weather Underground, Weathermen\n",
      "random Value Black Nationalists\n",
      "--------------------------\n",
      "for feature : guncertain1\n",
      "Number of Nulls is   380\n",
      "Number of Unique values is   3\n",
      "random Value 0.0\n",
      "random Value 0.0\n",
      "random Value 0.0\n",
      "--------------------------\n",
      "for feature : individual\n",
      "Number of Nulls is   0\n",
      "Number of Unique values is   2\n",
      "random Value 0\n",
      "random Value 0\n",
      "random Value 0\n",
      "--------------------------\n",
      "for feature : weaptype1_txt\n",
      "Number of Nulls is   0\n",
      "Number of Unique values is   12\n",
      "random Value Unknown\n",
      "random Value Explosives\n",
      "random Value Incendiary\n",
      "--------------------------\n",
      "for feature : weapsubtype1_txt\n",
      "Number of Nulls is   20768\n",
      "Number of Unique values is   31\n",
      "random Value nan\n",
      "random Value Unknown Explosive Type\n",
      "random Value Molotov Cocktail/Petrol Bomb\n",
      "--------------------------\n",
      "for feature : nkill\n",
      "Number of Nulls is   10313\n",
      "Number of Unique values is   206\n",
      "random Value 1.0\n",
      "random Value 0.0\n",
      "random Value 0.0\n",
      "--------------------------\n",
      "for feature : nwound\n",
      "Number of Nulls is   16311\n",
      "Number of Unique values is   239\n",
      "random Value 0.0\n",
      "random Value 0.0\n",
      "random Value 1.0\n",
      "--------------------------\n",
      "for feature : property\n",
      "Number of Nulls is   0\n",
      "Number of Unique values is   3\n",
      "random Value 0\n",
      "random Value 0\n",
      "random Value 1\n",
      "--------------------------\n",
      "for feature : ishostkid\n",
      "Number of Nulls is   178\n",
      "Number of Unique values is   4\n",
      "random Value 0.0\n",
      "random Value 0.0\n",
      "random Value 0.0\n",
      "--------------------------\n",
      "for feature : dbsource\n",
      "Number of Nulls is   0\n",
      "Number of Unique values is   26\n",
      "random Value PGIS\n",
      "random Value PGIS\n",
      "random Value Hewitt Project\n",
      "--------------------------\n",
      "for feature : INT_LOG\n",
      "Number of Nulls is   0\n",
      "Number of Unique values is   3\n",
      "random Value 0\n",
      "random Value 0\n",
      "random Value -9\n",
      "--------------------------\n",
      "for feature : INT_IDEO\n",
      "Number of Nulls is   0\n",
      "Number of Unique values is   3\n",
      "random Value 0\n",
      "random Value 0\n",
      "random Value -9\n",
      "--------------------------\n",
      "for feature : INT_MISC\n",
      "Number of Nulls is   0\n",
      "Number of Unique values is   3\n",
      "random Value 0\n",
      "random Value 0\n",
      "random Value 0\n",
      "--------------------------\n",
      "for feature : INT_ANY\n",
      "Number of Nulls is   0\n",
      "Number of Unique values is   3\n",
      "random Value 0\n",
      "random Value 0\n",
      "random Value -9\n",
      "--------------------------\n"
     ]
    }
   ],
   "source": [
    "show_details()"
   ]
  },
  {
   "cell_type": "markdown",
   "metadata": {},
   "source": [
    "_____\n",
    "\n",
    "so we'll need to handle Numerical features & categorical features , step by step\n",
    "\n",
    "_____\n",
    "\n",
    "# Numerical Features\n"
   ]
  },
  {
   "cell_type": "markdown",
   "metadata": {},
   "source": [
    "we have 14 numerical features to handle here which are : iyear , imonth , iday , extended , latitude , longitude , specificity , vicinity , doubtterr , multiple , guncertain1, nkill , nwound & ishostkid\n",
    "\n",
    "let's be sure that it got no nulls & all values are suitable\n",
    "\n",
    "let's start with iyear"
   ]
  },
  {
   "cell_type": "code",
   "execution_count": 12,
   "metadata": {},
   "outputs": [
    {
     "name": "stdout",
     "output_type": "stream",
     "text": [
      "Number of unique vaure are 47 which are : \n",
      " [1970, 1971, 1972, 1973, 1974, 1975, 1976, 1977, 1978, 1979, 1980, 1981, 1986, 1982, 1983, 1984, 1985, 1987, 1988, 1989, 1990, 1991, 1992, 1994, 1995, 1996, 1997, 1998, 1999, 2000, 2001, 2002, 2003, 2004, 2005, 2006, 2007, 2008, 2009, 2010, 2011, 2012, 2013, 2014, 2015, 2016, 2017]\n"
     ]
    }
   ],
   "source": [
    "unique('iyear')"
   ]
  },
  {
   "cell_type": "markdown",
   "metadata": {},
   "source": [
    "ok looks fine , let's draw a graphical representaion for year distribution "
   ]
  },
  {
   "cell_type": "code",
   "execution_count": 13,
   "metadata": {},
   "outputs": [
    {
     "data": {
      "image/png": "[encoded data removed]",
      "text/plain": [
       "<Figure size 432x288 with 1 Axes>"
      ]
     },
     "metadata": {
      "needs_background": "light"
     },
     "output_type": "display_data"
    }
   ],
   "source": [
    "cplot('iyear')"
   ]
  },
  {
   "cell_type": "markdown",
   "metadata": {},
   "source": [
    "looks that the rate increased so much in the last fea years , how about the month"
   ]
  },
  {
   "cell_type": "code",
   "execution_count": 14,
   "metadata": {},
   "outputs": [
    {
     "name": "stdout",
     "output_type": "stream",
     "text": [
      "Number of unique vaure are 13 which are : \n",
      " [7, 0, 1, 2, 3, 4, 5, 6, 8, 9, 10, 11, 12]\n"
     ]
    }
   ],
   "source": [
    "unique('imonth')"
   ]
  },
  {
   "cell_type": "markdown",
   "metadata": {},
   "source": [
    "since value of 0 is not accepted in month , we have to drop all rows contain 0 in month value , how many are rows right now ? \n"
   ]
  },
  {
   "cell_type": "code",
   "execution_count": 15,
   "metadata": {},
   "outputs": [
    {
     "data": {
      "text/plain": [
       "181691"
      ]
     },
     "execution_count": 15,
     "metadata": {},
     "output_type": "execute_result"
    }
   ],
   "source": [
    "data.shape[0]"
   ]
  },
  {
   "cell_type": "markdown",
   "metadata": {},
   "source": [
    "now let's drop 0 value at month"
   ]
  },
  {
   "cell_type": "code",
   "execution_count": 16,
   "metadata": {},
   "outputs": [],
   "source": [
    "remove_zero('imonth')"
   ]
  },
  {
   "cell_type": "markdown",
   "metadata": {},
   "source": [
    "now check number of rows "
   ]
  },
  {
   "cell_type": "code",
   "execution_count": 17,
   "metadata": {},
   "outputs": [
    {
     "data": {
      "text/plain": [
       "181671"
      ]
     },
     "execution_count": 17,
     "metadata": {},
     "output_type": "execute_result"
    }
   ],
   "source": [
    "data.shape[0]"
   ]
  },
  {
   "cell_type": "markdown",
   "metadata": {},
   "source": [
    "about 20 rows dropped , let's be sure that 0 value is vanished"
   ]
  },
  {
   "cell_type": "code",
   "execution_count": 18,
   "metadata": {},
   "outputs": [
    {
     "name": "stdout",
     "output_type": "stream",
     "text": [
      "Number of unique vaure are 12 which are : \n",
      " [7, 1, 2, 3, 4, 5, 6, 8, 9, 10, 11, 12]\n"
     ]
    }
   ],
   "source": [
    "unique('imonth')"
   ]
  },
  {
   "cell_type": "markdown",
   "metadata": {},
   "source": [
    "is there specific month which got more terroristic operation rate ? "
   ]
  },
  {
   "cell_type": "code",
   "execution_count": 19,
   "metadata": {},
   "outputs": [
    {
     "data": {
      "image/png": "[encoded data removed]",
      "text/plain": [
       "<Figure size 432x288 with 1 Axes>"
      ]
     },
     "metadata": {
      "needs_background": "light"
     },
     "output_type": "display_data"
    }
   ],
   "source": [
    "cplot('imonth')"
   ]
  },
  {
   "cell_type": "markdown",
   "metadata": {},
   "source": [
    "almost equally distributed \n",
    "\n",
    "now how about the days ? "
   ]
  },
  {
   "cell_type": "code",
   "execution_count": 20,
   "metadata": {},
   "outputs": [
    {
     "name": "stdout",
     "output_type": "stream",
     "text": [
      "Number of unique vaure are 32 which are : \n",
      " [2, 0, 1, 3, 6, 8, 9, 10, 11, 12, 13, 14, 15, 19, 20, 21, 22, 25, 26, 27, 28, 30, 31, 4, 7, 16, 17, 18, 23, 24, 5, 29]\n"
     ]
    }
   ],
   "source": [
    "unique('iday')"
   ]
  },
  {
   "cell_type": "markdown",
   "metadata": {},
   "source": [
    "again we have to drop all values of 0 "
   ]
  },
  {
   "cell_type": "code",
   "execution_count": 21,
   "metadata": {},
   "outputs": [],
   "source": [
    "remove_zero('iday')"
   ]
  },
  {
   "cell_type": "markdown",
   "metadata": {},
   "source": [
    "now how it looks "
   ]
  },
  {
   "cell_type": "code",
   "execution_count": 22,
   "metadata": {},
   "outputs": [
    {
     "name": "stdout",
     "output_type": "stream",
     "text": [
      "Number of unique vaure are 31 which are : \n",
      " [2, 1, 3, 6, 8, 9, 10, 11, 12, 13, 14, 15, 19, 20, 21, 22, 25, 26, 27, 28, 30, 31, 4, 7, 16, 17, 18, 23, 24, 5, 29]\n"
     ]
    }
   ],
   "source": [
    "unique('iday')"
   ]
  },
  {
   "cell_type": "markdown",
   "metadata": {},
   "source": [
    "& how many rows left"
   ]
  },
  {
   "cell_type": "code",
   "execution_count": 23,
   "metadata": {},
   "outputs": [
    {
     "data": {
      "text/plain": [
       "180800"
      ]
     },
     "execution_count": 23,
     "metadata": {},
     "output_type": "execute_result"
    }
   ],
   "source": [
    "data.shape[0]"
   ]
  },
  {
   "cell_type": "markdown",
   "metadata": {},
   "source": [
    "almost 1 thousand rows dropped\n",
    "\n",
    "______\n",
    "\n",
    "ok , let's moce to extended"
   ]
  },
  {
   "cell_type": "code",
   "execution_count": 24,
   "metadata": {},
   "outputs": [
    {
     "name": "stdout",
     "output_type": "stream",
     "text": [
      "Number of unique vaure are 2 which are : \n",
      " [0, 1]\n"
     ]
    }
   ],
   "source": [
    "unique('extended')"
   ]
  },
  {
   "cell_type": "markdown",
   "metadata": {},
   "source": [
    "nothing wrong with it , how about latitude , how many nulls at it  ?"
   ]
  },
  {
   "cell_type": "code",
   "execution_count": 25,
   "metadata": {},
   "outputs": [
    {
     "data": {
      "text/plain": [
       "4469"
      ]
     },
     "execution_count": 25,
     "metadata": {},
     "output_type": "execute_result"
    }
   ],
   "source": [
    "data['latitude'].isna().sum()"
   ]
  },
  {
   "cell_type": "markdown",
   "metadata": {},
   "source": [
    "so much nulls , so let's fill nulls with 0 then drop all rows with zero value "
   ]
  },
  {
   "cell_type": "code",
   "execution_count": 26,
   "metadata": {},
   "outputs": [],
   "source": [
    "fillna('latitude',0)\n",
    "remove_zero('latitude')"
   ]
  },
  {
   "cell_type": "markdown",
   "metadata": {},
   "source": [
    "now it should got no nulls"
   ]
  },
  {
   "cell_type": "code",
   "execution_count": 27,
   "metadata": {},
   "outputs": [
    {
     "data": {
      "text/plain": [
       "0"
      ]
     },
     "execution_count": 27,
     "metadata": {},
     "output_type": "execute_result"
    }
   ],
   "source": [
    "data['latitude'].isna().sum()"
   ]
  },
  {
   "cell_type": "markdown",
   "metadata": {},
   "source": [
    "great , how many rows dropped ? "
   ]
  },
  {
   "cell_type": "code",
   "execution_count": 28,
   "metadata": {},
   "outputs": [
    {
     "data": {
      "text/plain": [
       "176331"
      ]
     },
     "execution_count": 28,
     "metadata": {},
     "output_type": "execute_result"
    }
   ],
   "source": [
    "data.shape[0]"
   ]
  },
  {
   "cell_type": "markdown",
   "metadata": {},
   "source": [
    "great , let's repeat it with longitude"
   ]
  },
  {
   "cell_type": "code",
   "execution_count": 29,
   "metadata": {},
   "outputs": [
    {
     "data": {
      "text/plain": [
       "0"
      ]
     },
     "execution_count": 29,
     "metadata": {},
     "output_type": "execute_result"
    }
   ],
   "source": [
    "fillna('longitude',0)\n",
    "remove_zero('longitude')\n",
    "data['longitude'].isna().sum()"
   ]
  },
  {
   "cell_type": "markdown",
   "metadata": {},
   "source": [
    "now hw many rows left"
   ]
  },
  {
   "cell_type": "code",
   "execution_count": 30,
   "metadata": {},
   "outputs": [
    {
     "data": {
      "text/plain": [
       "176330"
      ]
     },
     "execution_count": 30,
     "metadata": {},
     "output_type": "execute_result"
    }
   ],
   "source": [
    "data.shape[0]"
   ]
  },
  {
   "cell_type": "markdown",
   "metadata": {},
   "source": [
    "______\n",
    "\n",
    "let's move to specificity "
   ]
  },
  {
   "cell_type": "code",
   "execution_count": 31,
   "metadata": {},
   "outputs": [
    {
     "data": {
      "text/plain": [
       "0"
      ]
     },
     "execution_count": 31,
     "metadata": {},
     "output_type": "execute_result"
    }
   ],
   "source": [
    "data['specificity'].isna().sum()"
   ]
  },
  {
   "cell_type": "markdown",
   "metadata": {},
   "source": [
    "cool , how about vicinity"
   ]
  },
  {
   "cell_type": "code",
   "execution_count": 32,
   "metadata": {},
   "outputs": [
    {
     "data": {
      "text/plain": [
       "0"
      ]
     },
     "execution_count": 32,
     "metadata": {},
     "output_type": "execute_result"
    }
   ],
   "source": [
    "data['vicinity'].isna().sum()"
   ]
  },
  {
   "cell_type": "markdown",
   "metadata": {},
   "source": [
    "and doubtterr"
   ]
  },
  {
   "cell_type": "code",
   "execution_count": 33,
   "metadata": {},
   "outputs": [
    {
     "data": {
      "text/plain": [
       "1"
      ]
     },
     "execution_count": 33,
     "metadata": {},
     "output_type": "execute_result"
    }
   ],
   "source": [
    "data['doubtterr'].isna().sum()"
   ]
  },
  {
   "cell_type": "markdown",
   "metadata": {},
   "source": [
    "what are unique values for it ? "
   ]
  },
  {
   "cell_type": "code",
   "execution_count": 34,
   "metadata": {},
   "outputs": [
    {
     "name": "stdout",
     "output_type": "stream",
     "text": [
      "Number of unique vaure are 4 which are : \n",
      " [0.0, 1.0, -9.0, nan]\n"
     ]
    }
   ],
   "source": [
    "unique('doubtterr')"
   ]
  },
  {
   "cell_type": "markdown",
   "metadata": {},
   "source": [
    "so since it got an original values for 0 , so we'll fill nulls with another number 33 to drop it"
   ]
  },
  {
   "cell_type": "code",
   "execution_count": 35,
   "metadata": {},
   "outputs": [
    {
     "data": {
      "text/plain": [
       "0"
      ]
     },
     "execution_count": 35,
     "metadata": {},
     "output_type": "execute_result"
    }
   ],
   "source": [
    "fillna('doubtterr',33)\n",
    "remove_zero('doubtterr',33)\n",
    "data['doubtterr'].isna().sum()"
   ]
  },
  {
   "cell_type": "markdown",
   "metadata": {},
   "source": [
    "great , now how multiple looks  ? "
   ]
  },
  {
   "cell_type": "code",
   "execution_count": 36,
   "metadata": {},
   "outputs": [
    {
     "data": {
      "text/plain": [
       "1"
      ]
     },
     "execution_count": 36,
     "metadata": {},
     "output_type": "execute_result"
    }
   ],
   "source": [
    "data['multiple'].isna().sum()"
   ]
  },
  {
   "cell_type": "markdown",
   "metadata": {},
   "source": [
    "what are values at it ? "
   ]
  },
  {
   "cell_type": "code",
   "execution_count": 37,
   "metadata": {},
   "outputs": [
    {
     "name": "stdout",
     "output_type": "stream",
     "text": [
      "Number of unique vaure are 3 which are : \n",
      " [0.0, 1.0, nan]\n"
     ]
    }
   ],
   "source": [
    "unique('multiple')"
   ]
  },
  {
   "cell_type": "markdown",
   "metadata": {},
   "source": [
    "again we'll fill nulls with 33 to drop it"
   ]
  },
  {
   "cell_type": "code",
   "execution_count": 38,
   "metadata": {},
   "outputs": [
    {
     "data": {
      "text/plain": [
       "0"
      ]
     },
     "execution_count": 38,
     "metadata": {},
     "output_type": "execute_result"
    }
   ],
   "source": [
    "fillna('multiple',33)\n",
    "remove_zero('multiple',33)\n",
    "data['multiple'].isna().sum()"
   ]
  },
  {
   "cell_type": "markdown",
   "metadata": {},
   "source": [
    "_____\n",
    "\n",
    "now let's move to gun certain"
   ]
  },
  {
   "cell_type": "code",
   "execution_count": 39,
   "metadata": {},
   "outputs": [
    {
     "data": {
      "text/plain": [
       "371"
      ]
     },
     "execution_count": 39,
     "metadata": {},
     "output_type": "execute_result"
    }
   ],
   "source": [
    "data['guncertain1'].isna().sum()"
   ]
  },
  {
   "cell_type": "markdown",
   "metadata": {},
   "source": [
    "what are the values ? "
   ]
  },
  {
   "cell_type": "code",
   "execution_count": 40,
   "metadata": {},
   "outputs": [
    {
     "name": "stdout",
     "output_type": "stream",
     "text": [
      "Number of unique vaure are 3 which are : \n",
      " [0.0, 1.0, nan]\n"
     ]
    }
   ],
   "source": [
    "unique('guncertain1')"
   ]
  },
  {
   "cell_type": "markdown",
   "metadata": {},
   "source": [
    "we'll repeat the 33 value again "
   ]
  },
  {
   "cell_type": "code",
   "execution_count": 41,
   "metadata": {},
   "outputs": [
    {
     "data": {
      "text/plain": [
       "0"
      ]
     },
     "execution_count": 41,
     "metadata": {},
     "output_type": "execute_result"
    }
   ],
   "source": [
    "fillna('guncertain1',33)\n",
    "remove_zero('guncertain1',33)\n",
    "data['guncertain1'].isna().sum()"
   ]
  },
  {
   "cell_type": "markdown",
   "metadata": {},
   "source": [
    "also we can have a look to their ratios"
   ]
  },
  {
   "cell_type": "code",
   "execution_count": 42,
   "metadata": {},
   "outputs": [
    {
     "data": {
      "image/png": "[encoded data removed]",
      "text/plain": [
       "<Figure size 432x288 with 1 Axes>"
      ]
     },
     "metadata": {},
     "output_type": "display_data"
    }
   ],
   "source": [
    "pie('guncertain1')"
   ]
  },
  {
   "cell_type": "markdown",
   "metadata": {},
   "source": [
    "____\n",
    "\n",
    "now the number of victims"
   ]
  },
  {
   "cell_type": "code",
   "execution_count": 43,
   "metadata": {},
   "outputs": [
    {
     "name": "stdout",
     "output_type": "stream",
     "text": [
      "Number of unique vaure are 202 which are : \n",
      " [1.0, 0.0, nan, 7.0, 47.0, 2.0, 5.0, 3.0, 4.0, 25.0, 15.0, 8.0, 26.0, 81.0, 6.0, 9.0, 16.0, 30.0, 31.0, 12.0, 21.0, 14.0, 88.0, 11.0, 10.0, 27.0, 18.0, 22.0, 19.0, 92.0, 13.0, 73.0, 100.0, 42.0, 17.0, 98.0, 422.0, 48.0, 34.0, 54.0, 50.0, 20.0, 41.0, 37.0, 28.0, 40.0, 32.0, 85.0, 23.0, 300.0, 35.0, 60.0, 24.0, 58.0, 87.0, 45.0, 38.0, 29.0, 36.0, 74.0, 83.0, 90.0, 70.0, 66.0, 80.0, 67.0, 51.0, 39.0, 114.0, 124.0, 76.0, 33.0, 75.0, 57.0, 62.0, 46.0, 56.0, 63.0, 120.0, 102.0, 79.0, 52.0, 77.0, 49.0, 111.0, 165.0, 241.0, 108.0, 132.0, 65.0, 43.0, 228.0, 110.0, 180.0, 250.0, 93.0, 200.0, 130.0, 59.0, 94.0, 146.0, 329.0, 44.0, 97.0, 240.0, 227.0, 126.0, 106.0, 388.0, 68.0, 270.0, 84.0, 53.0, 82.0, 171.0, 107.0, 55.0, 112.0, 72.0, 96.0, 140.0, 61.0, 105.0, 115.0, 1180.0, 170.0, 168.0, 121.0, 375.0, 64.0, 91.0, 123.0, 135.0, 256.0, 109.0, 271.0, 206.0, 104.0, 320.0, 224.0, 118.0, 150.0, 129.0, 95.0, 1384.0, 1383.0, 190.0, 119.0, 78.0, 101.0, 71.0, 116.0, 518.0, 344.0, 160.0, 188.0, 103.0, 205.0, 145.0, 153.0, 127.0, 69.0, 141.0, 134.0, 89.0, 400.0, 86.0, 184.0, 210.0, 142.0, 212.0, 287.0, 315.0, 151.0, 670.0, 1570.0, 310.0, 298.0, 953.0, 517.0, 201.0, 122.0, 158.0, 117.0, 144.0, 208.0, 152.0, 230.0, 280.0, 174.0, 143.0, 383.0, 283.0, 154.0, 284.0, 433.0, 266.0, 133.0, 163.0, 128.0, 588.0, 311.0]\n"
     ]
    }
   ],
   "source": [
    "unique('nkill')"
   ]
  },
  {
   "cell_type": "markdown",
   "metadata": {},
   "source": [
    "again it contain several numbers & we cannot use 0 since it's exist indeed , let's pick 999999"
   ]
  },
  {
   "cell_type": "code",
   "execution_count": 44,
   "metadata": {},
   "outputs": [
    {
     "data": {
      "text/plain": [
       "0"
      ]
     },
     "execution_count": 44,
     "metadata": {},
     "output_type": "execute_result"
    }
   ],
   "source": [
    "fillna('nkill',999999)\n",
    "remove_zero('nkill',999999)\n",
    "data['nkill'].isna().sum()"
   ]
  },
  {
   "cell_type": "markdown",
   "metadata": {},
   "source": [
    "so we can have a look to umber of victims distribution "
   ]
  },
  {
   "cell_type": "code",
   "execution_count": 45,
   "metadata": {},
   "outputs": [
    {
     "data": {
      "text/plain": [
       "0.0           85666\n",
       "1.0           35735\n",
       "2.0           13780\n",
       "3.0            7477\n",
       "4.0            4784\n",
       "5.0            3401\n",
       "6.0            2439\n",
       "7.0            1876\n",
       "8.0            1432\n",
       "10.0           1134\n",
       "rest items     8605\n",
       "dtype: int64"
      ]
     },
     "execution_count": 45,
     "metadata": {},
     "output_type": "execute_result"
    }
   ],
   "source": [
    "victims = max_counts('nkill',10, True)\n",
    "victims"
   ]
  },
  {
   "cell_type": "markdown",
   "metadata": {},
   "source": [
    "also we can draw a pie chart for it"
   ]
  },
  {
   "cell_type": "code",
   "execution_count": 46,
   "metadata": {},
   "outputs": [
    {
     "data": {
      "image/png": "[encoded data removed]",
      "text/plain": [
       "<Figure size 432x288 with 1 Axes>"
      ]
     },
     "metadata": {},
     "output_type": "display_data"
    }
   ],
   "source": [
    "spie(victims)"
   ]
  },
  {
   "cell_type": "markdown",
   "metadata": {},
   "source": [
    "almost half of operations with no victims & fifth with only 1 victim , now how about the wounds"
   ]
  },
  {
   "cell_type": "code",
   "execution_count": 47,
   "metadata": {},
   "outputs": [
    {
     "data": {
      "text/plain": [
       "6410"
      ]
     },
     "execution_count": 47,
     "metadata": {},
     "output_type": "execute_result"
    }
   ],
   "source": [
    "data['nwound'].isna().sum()"
   ]
  },
  {
   "cell_type": "markdown",
   "metadata": {},
   "source": [
    "how about unique values ? "
   ]
  },
  {
   "cell_type": "code",
   "execution_count": 48,
   "metadata": {},
   "outputs": [
    {
     "name": "stdout",
     "output_type": "stream",
     "text": [
      "Number of unique vaure are 239 which are : \n",
      " [0.0, 1.0, 2.0, nan, 7.0, 9.0, 17.0, 5.0, 3.0, 10.0, 12.0, 20.0, 4.0, 11.0, 27.0, 13.0, 19.0, 130.0, 56.0, 24.0, 6.0, 72.0, 238.0, 55.0, 15.0, 8.0, 18.0, 50.0, 34.0, 14.0, 70.0, 102.0, 41.0, 48.0, 36.0, 25.0, 81.0, 54.0, 53.0, 100.0, 45.0, 40.0, 62.0, 74.0, 22.0, 31.0, 16.0, 30.0, 285.0, 23.0, 42.0, 43.0, 76.0, 44.0, 52.0, 46.0, 49.0, 160.0, 37.0, 21.0, 60.0, 26.0, 33.0, 28.0, 39.0, 38.0, 35.0, 32.0, 78.0, 80.0, 47.0, 188.0, 215.0, 85.0, 75.0, 161.0, 90.0, 300.0, 95.0, 135.0, 61.0, 138.0, 71.0, 700.0, 66.0, 136.0, 120.0, 217.0, 319.0, 133.0, 68.0, 73.0, 29.0, 751.0, 200.0, 112.0, 250.0, 82.0, 132.0, 230.0, 107.0, 114.0, 84.0, 140.0, 150.0, 51.0, 58.0, 64.0, 295.0, 106.0, 125.0, 69.0, 59.0, 57.0, 122.0, 109.0, 88.0, 115.0, 176.0, 220.0, 97.0, 65.0, 800.0, 173.0, 92.0, 500.0, 236.0, 98.0, 286.0, 141.0, 5500.0, 650.0, 671.0, 86.0, 104.0, 83.0, 101.0, 1272.0, 105.0, 386.0, 391.0, 110.0, 149.0, 89.0, 91.0, 119.0, 77.0, 118.0, 67.0, 170.0, 194.0, 192.0, 227.0, 260.0, 4000.0, 180.0, 184.0, 99.0, 94.0, 137.0, 8190.0, 8191.0, 171.0, 121.0, 103.0, 162.0, 197.0, 151.0, 224.0, 134.0, 233.0, 167.0, 450.0, 216.0, 145.0, 63.0, 727.0, 182.0, 159.0, 108.0, 128.0, 340.0, 163.0, 542.0, 87.0, 155.0, 96.0, 817.0, 257.0, 148.0, 123.0, 246.0, 127.0, 347.0, 178.0, 168.0, 207.0, 183.0, 117.0, 750.0, 147.0, 1001.0, 93.0, 154.0, 235.0, 158.0, 211.0, 116.0, 276.0, 552.0, 360.0, 113.0, 157.0, 175.0, 301.0, 131.0, 400.0, 370.0, 8.5, 169.0, 201.0, 111.0, 143.0, 153.0, 124.0, 79.0, 270.0, 152.0, 296.0, 245.0, 1500.0, 351.0, 600.0, 433.0, 177.0, 491.0, 405.0, 851.0, 316.0]\n"
     ]
    }
   ],
   "source": [
    "unique('nwound')"
   ]
  },
  {
   "cell_type": "markdown",
   "metadata": {},
   "source": [
    "again we'll use 999999to drop null rows"
   ]
  },
  {
   "cell_type": "code",
   "execution_count": 49,
   "metadata": {},
   "outputs": [
    {
     "data": {
      "text/plain": [
       "0"
      ]
     },
     "execution_count": 49,
     "metadata": {},
     "output_type": "execute_result"
    }
   ],
   "source": [
    "fillna('nwound',999999)\n",
    "remove_zero('nwound',999999)\n",
    "data['nwound'].isna().sum()"
   ]
  },
  {
   "cell_type": "markdown",
   "metadata": {},
   "source": [
    "let's have a look to number of wounded people statistics"
   ]
  },
  {
   "cell_type": "code",
   "execution_count": 50,
   "metadata": {},
   "outputs": [
    {
     "data": {
      "text/plain": [
       "0.0           99438\n",
       "1.0           15515\n",
       "2.0            9960\n",
       "3.0            7131\n",
       "4.0            4755\n",
       "5.0            3719\n",
       "6.0            2805\n",
       "7.0            2388\n",
       "8.0            1780\n",
       "10.0           1338\n",
       "rest items    11090\n",
       "dtype: int64"
      ]
     },
     "execution_count": 50,
     "metadata": {},
     "output_type": "execute_result"
    }
   ],
   "source": [
    "wounded = max_counts('nwound',10, True)\n",
    "wounded"
   ]
  },
  {
   "cell_type": "markdown",
   "metadata": {},
   "source": [
    "how it looks"
   ]
  },
  {
   "cell_type": "code",
   "execution_count": 51,
   "metadata": {},
   "outputs": [
    {
     "data": {
      "image/png": "[encoded data removed]",
      "text/plain": [
       "<Figure size 432x288 with 1 Axes>"
      ]
     },
     "metadata": {},
     "output_type": "display_data"
    }
   ],
   "source": [
    "spie(wounded)"
   ]
  },
  {
   "cell_type": "markdown",
   "metadata": {},
   "source": [
    "ok , now to the last numerical feature "
   ]
  },
  {
   "cell_type": "code",
   "execution_count": 52,
   "metadata": {},
   "outputs": [
    {
     "data": {
      "text/plain": [
       "153"
      ]
     },
     "execution_count": 52,
     "metadata": {},
     "output_type": "execute_result"
    }
   ],
   "source": [
    "data['ishostkid'].isna().sum()"
   ]
  },
  {
   "cell_type": "markdown",
   "metadata": {},
   "source": [
    "unique values ? "
   ]
  },
  {
   "cell_type": "code",
   "execution_count": 53,
   "metadata": {},
   "outputs": [
    {
     "name": "stdout",
     "output_type": "stream",
     "text": [
      "Number of unique vaure are 4 which are : \n",
      " [0.0, 1.0, nan, -9.0]\n"
     ]
    }
   ],
   "source": [
    "unique('ishostkid')"
   ]
  },
  {
   "cell_type": "markdown",
   "metadata": {},
   "source": [
    "so let's use 33 value"
   ]
  },
  {
   "cell_type": "code",
   "execution_count": 54,
   "metadata": {},
   "outputs": [
    {
     "data": {
      "text/plain": [
       "0"
      ]
     },
     "execution_count": 54,
     "metadata": {},
     "output_type": "execute_result"
    }
   ],
   "source": [
    "fillna('ishostkid',33)\n",
    "remove_zero('ishostkid',33)\n",
    "data['ishostkid'].isna().sum()"
   ]
  },
  {
   "cell_type": "markdown",
   "metadata": {},
   "source": [
    "great , now we read to move to categorical features \n",
    "\n",
    "______\n",
    "\n",
    "# Categorical Features\n",
    "\n",
    "how the data looks now ? "
   ]
  },
  {
   "cell_type": "code",
   "execution_count": 55,
   "metadata": {},
   "outputs": [
    {
     "data": {
      "text/plain": [
       "(159766, 39)"
      ]
     },
     "execution_count": 55,
     "metadata": {},
     "output_type": "execute_result"
    }
   ],
   "source": [
    "data.shape"
   ]
  },
  {
   "cell_type": "markdown",
   "metadata": {},
   "source": [
    "how many nulls ? "
   ]
  },
  {
   "cell_type": "code",
   "execution_count": 56,
   "metadata": {},
   "outputs": [
    {
     "name": "stdout",
     "output_type": "stream",
     "text": [
      "Column provstate has been number of nulls 377\n",
      "Column city has been number of nulls 422\n",
      "Column targsubtype1_txt has been number of nulls 9478\n",
      "Column corp1 has been number of nulls 34712\n",
      "Column target1 has been number of nulls 525\n",
      "Column natlty1_txt has been number of nulls 1445\n",
      "Column weapsubtype1_txt has been number of nulls 16078\n"
     ]
    }
   ],
   "source": [
    "count_nulls()"
   ]
  },
  {
   "cell_type": "markdown",
   "metadata": {},
   "source": [
    "snce we have hundreds of nulls in these 7 features , let's fill them with 'other' to make them ready for label encoder"
   ]
  },
  {
   "cell_type": "code",
   "execution_count": 57,
   "metadata": {},
   "outputs": [],
   "source": [
    "fillna('provstate','other')\n",
    "fillna('city','other')\n",
    "fillna('targsubtype1_txt','other')\n",
    "fillna('corp1','other')\n",
    "fillna('target1','other')\n",
    "fillna('natlty1_txt','other')\n",
    "fillna('weapsubtype1_txt','other')"
   ]
  },
  {
   "cell_type": "markdown",
   "metadata": {},
   "source": [
    "now it should show 0 nulls in all features  "
   ]
  },
  {
   "cell_type": "code",
   "execution_count": 58,
   "metadata": {},
   "outputs": [],
   "source": [
    "count_nulls()"
   ]
  },
  {
   "cell_type": "markdown",
   "metadata": {},
   "source": [
    "great now we can label encode all categorical features , & drop original features "
   ]
  },
  {
   "cell_type": "code",
   "execution_count": 59,
   "metadata": {},
   "outputs": [],
   "source": [
    "encoder('provstate','provstate_code',True)\n",
    "encoder('city','city_code',True)\n",
    "encoder('targsubtype1_txt','targsubtype_code',True)\n",
    "encoder('corp1','corp_code',True)\n",
    "encoder('target1','target_code',True)\n",
    "encoder('natlty1_txt','natlty_code',True)\n",
    "encoder('weapsubtype1_txt','weapsubtype_code',True)\n",
    "\n",
    "encoder('country_txt','country_code',True)    \n",
    "encoder('region_txt','region_code',True)    \n",
    "encoder('attacktype1_txt','attacktype_code',True)    \n",
    "encoder('targtype1_txt','targtype_code',True)    \n",
    "encoder('gname','gname_code',True)    \n",
    "encoder('weaptype1_txt','weaptype_code',True)    \n",
    "encoder('dbsource','dbsource_code',True)    "
   ]
  },
  {
   "cell_type": "markdown",
   "metadata": {},
   "source": [
    "now how data looks like"
   ]
  },
  {
   "cell_type": "code",
   "execution_count": 60,
   "metadata": {},
   "outputs": [
    {
     "name": "stdout",
     "output_type": "stream",
     "text": [
      "for feature : iyear\n",
      "Number of Nulls is   0\n",
      "Number of Unique values is   47\n",
      "random Value 1970\n",
      "random Value 1970\n",
      "random Value 1970\n",
      "--------------------------\n",
      "for feature : imonth\n",
      "Number of Nulls is   0\n",
      "Number of Unique values is   12\n",
      "random Value 7\n",
      "random Value 1\n",
      "random Value 1\n",
      "--------------------------\n",
      "for feature : iday\n",
      "Number of Nulls is   0\n",
      "Number of Unique values is   31\n",
      "random Value 2\n",
      "random Value 1\n",
      "random Value 14\n",
      "--------------------------\n",
      "for feature : extended\n",
      "Number of Nulls is   0\n",
      "Number of Unique values is   2\n",
      "random Value 0\n",
      "random Value 0\n",
      "random Value 0\n",
      "--------------------------\n",
      "for feature : latitude\n",
      "Number of Nulls is   0\n",
      "Number of Unique values is   44468\n",
      "random Value 18.456792\n",
      "random Value 43.4685\n",
      "random Value 40.116748\n",
      "--------------------------\n",
      "for feature : longitude\n",
      "Number of Nulls is   0\n",
      "Number of Unique values is   44191\n",
      "random Value -69.951164\n",
      "random Value -89.744299\n",
      "random Value -88.23926999999999\n",
      "--------------------------\n",
      "for feature : specificity\n",
      "Number of Nulls is   0\n",
      "Number of Unique values is   4\n",
      "random Value 1.0\n",
      "random Value 1.0\n",
      "random Value 1.0\n",
      "--------------------------\n",
      "for feature : vicinity\n",
      "Number of Nulls is   0\n",
      "Number of Unique values is   3\n",
      "random Value 0\n",
      "random Value 0\n",
      "random Value 0\n",
      "--------------------------\n",
      "for feature : crit1\n",
      "Number of Nulls is   0\n",
      "Number of Unique values is   2\n",
      "random Value 1\n",
      "random Value 1\n",
      "random Value 1\n",
      "--------------------------\n",
      "for feature : crit2\n",
      "Number of Nulls is   0\n",
      "Number of Unique values is   2\n",
      "random Value 1\n",
      "random Value 1\n",
      "random Value 1\n",
      "--------------------------\n",
      "for feature : crit3\n",
      "Number of Nulls is   0\n",
      "Number of Unique values is   2\n",
      "random Value 1\n",
      "random Value 0\n",
      "random Value 1\n",
      "--------------------------\n",
      "for feature : doubtterr\n",
      "Number of Nulls is   0\n",
      "Number of Unique values is   3\n",
      "random Value 0.0\n",
      "random Value 1.0\n",
      "random Value 0.0\n",
      "--------------------------\n",
      "for feature : multiple\n",
      "Number of Nulls is   0\n",
      "Number of Unique values is   2\n",
      "random Value 0.0\n",
      "random Value 0.0\n",
      "random Value 0.0\n",
      "--------------------------\n",
      "for feature : success\n",
      "Number of Nulls is   0\n",
      "Number of Unique values is   2\n",
      "random Value 1\n",
      "random Value 0\n",
      "random Value 1\n",
      "--------------------------\n",
      "for feature : suicide\n",
      "Number of Nulls is   0\n",
      "Number of Unique values is   2\n",
      "random Value 0\n",
      "random Value 0\n",
      "random Value 0\n",
      "--------------------------\n",
      "for feature : guncertain1\n",
      "Number of Nulls is   0\n",
      "Number of Unique values is   2\n",
      "random Value 0.0\n",
      "random Value 0.0\n",
      "random Value 0.0\n",
      "--------------------------\n",
      "for feature : individual\n",
      "Number of Nulls is   0\n",
      "Number of Unique values is   2\n",
      "random Value 0\n",
      "random Value 0\n",
      "random Value 0\n",
      "--------------------------\n",
      "for feature : nkill\n",
      "Number of Nulls is   0\n",
      "Number of Unique values is   179\n",
      "random Value 1.0\n",
      "random Value 0.0\n",
      "random Value 0.0\n",
      "--------------------------\n",
      "for feature : nwound\n",
      "Number of Nulls is   0\n",
      "Number of Unique values is   238\n",
      "random Value 0.0\n",
      "random Value 0.0\n",
      "random Value 1.0\n",
      "--------------------------\n",
      "for feature : property\n",
      "Number of Nulls is   0\n",
      "Number of Unique values is   3\n",
      "random Value 0\n",
      "random Value 0\n",
      "random Value 1\n",
      "--------------------------\n",
      "for feature : ishostkid\n",
      "Number of Nulls is   0\n",
      "Number of Unique values is   3\n",
      "random Value 0.0\n",
      "random Value 0.0\n",
      "random Value 0.0\n",
      "--------------------------\n",
      "for feature : INT_LOG\n",
      "Number of Nulls is   0\n",
      "Number of Unique values is   3\n",
      "random Value 0\n",
      "random Value 0\n",
      "random Value -9\n",
      "--------------------------\n",
      "for feature : INT_IDEO\n",
      "Number of Nulls is   0\n",
      "Number of Unique values is   3\n",
      "random Value 0\n",
      "random Value 0\n",
      "random Value -9\n",
      "--------------------------\n",
      "for feature : INT_MISC\n",
      "Number of Nulls is   0\n",
      "Number of Unique values is   3\n",
      "random Value 0\n",
      "random Value 0\n",
      "random Value 0\n",
      "--------------------------\n",
      "for feature : INT_ANY\n",
      "Number of Nulls is   0\n",
      "Number of Unique values is   3\n",
      "random Value 0\n",
      "random Value 0\n",
      "random Value -9\n",
      "--------------------------\n",
      "for feature : provstate_code\n",
      "Number of Nulls is   0\n",
      "Number of Unique values is   2766\n",
      "random Value 2760\n",
      "random Value 2672\n",
      "random Value 981\n",
      "--------------------------\n",
      "for feature : city_code\n",
      "Number of Nulls is   0\n",
      "Number of Unique values is   32236\n",
      "random Value 26138\n",
      "random Value 3433\n",
      "random Value 6302\n",
      "--------------------------\n",
      "for feature : targsubtype_code\n",
      "Number of Nulls is   0\n",
      "Number of Unique values is   113\n",
      "random Value 59\n",
      "random Value 46\n",
      "random Value 73\n",
      "--------------------------\n",
      "for feature : corp_code\n",
      "Number of Nulls is   0\n",
      "Number of Unique values is   30039\n",
      "random Value 29745\n",
      "random Value 29745\n",
      "random Value 21282\n",
      "--------------------------\n",
      "for feature : target_code\n",
      "Number of Nulls is   0\n",
      "Number of Unique values is   76194\n",
      "random Value 35441\n",
      "random Value 11421\n",
      "random Value 15599\n",
      "--------------------------\n",
      "for feature : natlty_code\n",
      "Number of Nulls is   0\n",
      "Number of Unique values is   213\n",
      "random Value 49\n",
      "random Value 197\n",
      "random Value 197\n",
      "--------------------------\n",
      "for feature : weapsubtype_code\n",
      "Number of Nulls is   0\n",
      "Number of Unique values is   31\n",
      "random Value 30\n",
      "random Value 26\n",
      "random Value 12\n",
      "--------------------------\n",
      "for feature : country_code\n",
      "Number of Nulls is   0\n",
      "Number of Unique values is   202\n",
      "random Value 45\n",
      "random Value 186\n",
      "random Value 186\n",
      "--------------------------\n",
      "for feature : region_code\n",
      "Number of Nulls is   0\n",
      "Number of Unique values is   12\n",
      "random Value 1\n",
      "random Value 6\n",
      "random Value 6\n",
      "--------------------------\n",
      "for feature : attacktype_code\n",
      "Number of Nulls is   0\n",
      "Number of Unique values is   9\n",
      "random Value 1\n",
      "random Value 2\n",
      "random Value 3\n",
      "--------------------------\n",
      "for feature : targtype_code\n",
      "Number of Nulls is   0\n",
      "Number of Unique values is   22\n",
      "random Value 13\n",
      "random Value 9\n",
      "random Value 12\n",
      "--------------------------\n",
      "for feature : gname_code\n",
      "Number of Nulls is   0\n",
      "Number of Unique values is   3284\n",
      "random Value 1774\n",
      "random Value 3198\n",
      "random Value 639\n",
      "--------------------------\n",
      "for feature : weaptype_code\n",
      "Number of Nulls is   0\n",
      "Number of Unique values is   12\n",
      "random Value 10\n",
      "random Value 2\n",
      "random Value 5\n",
      "--------------------------\n",
      "for feature : dbsource_code\n",
      "Number of Nulls is   0\n",
      "Number of Unique values is   25\n",
      "random Value 13\n",
      "random Value 13\n",
      "random Value 8\n",
      "--------------------------\n"
     ]
    }
   ],
   "source": [
    "show_details()"
   ]
  },
  {
   "cell_type": "code",
   "execution_count": 61,
   "metadata": {},
   "outputs": [
    {
     "data": {
      "text/html": [
       "<div>\n",
       "<style scoped>\n",
       "    .dataframe tbody tr th:only-of-type {\n",
       "        vertical-align: middle;\n",
       "    }\n",
       "\n",
       "    .dataframe tbody tr th {\n",
       "        vertical-align: top;\n",
       "    }\n",
       "\n",
       "    .dataframe thead th {\n",
       "        text-align: right;\n",
       "    }\n",
       "</style>\n",
       "<table border=\"1\" class=\"dataframe\">\n",
       "  <thead>\n",
       "    <tr style=\"text-align: right;\">\n",
       "      <th></th>\n",
       "      <th>iyear</th>\n",
       "      <th>imonth</th>\n",
       "      <th>iday</th>\n",
       "      <th>extended</th>\n",
       "      <th>latitude</th>\n",
       "      <th>longitude</th>\n",
       "      <th>specificity</th>\n",
       "      <th>vicinity</th>\n",
       "      <th>crit1</th>\n",
       "      <th>crit2</th>\n",
       "      <th>...</th>\n",
       "      <th>target_code</th>\n",
       "      <th>natlty_code</th>\n",
       "      <th>weapsubtype_code</th>\n",
       "      <th>country_code</th>\n",
       "      <th>region_code</th>\n",
       "      <th>attacktype_code</th>\n",
       "      <th>targtype_code</th>\n",
       "      <th>gname_code</th>\n",
       "      <th>weaptype_code</th>\n",
       "      <th>dbsource_code</th>\n",
       "    </tr>\n",
       "  </thead>\n",
       "  <tbody>\n",
       "    <tr>\n",
       "      <th>0</th>\n",
       "      <td>1970</td>\n",
       "      <td>7</td>\n",
       "      <td>2</td>\n",
       "      <td>0</td>\n",
       "      <td>18.456792</td>\n",
       "      <td>-69.951164</td>\n",
       "      <td>1.0</td>\n",
       "      <td>0</td>\n",
       "      <td>1</td>\n",
       "      <td>1</td>\n",
       "      <td>...</td>\n",
       "      <td>35441</td>\n",
       "      <td>49</td>\n",
       "      <td>30</td>\n",
       "      <td>45</td>\n",
       "      <td>1</td>\n",
       "      <td>1</td>\n",
       "      <td>13</td>\n",
       "      <td>1774</td>\n",
       "      <td>10</td>\n",
       "      <td>13</td>\n",
       "    </tr>\n",
       "    <tr>\n",
       "      <th>5</th>\n",
       "      <td>1970</td>\n",
       "      <td>1</td>\n",
       "      <td>1</td>\n",
       "      <td>0</td>\n",
       "      <td>37.005105</td>\n",
       "      <td>-89.176269</td>\n",
       "      <td>1.0</td>\n",
       "      <td>0</td>\n",
       "      <td>1</td>\n",
       "      <td>1</td>\n",
       "      <td>...</td>\n",
       "      <td>13988</td>\n",
       "      <td>197</td>\n",
       "      <td>27</td>\n",
       "      <td>186</td>\n",
       "      <td>6</td>\n",
       "      <td>0</td>\n",
       "      <td>12</td>\n",
       "      <td>639</td>\n",
       "      <td>4</td>\n",
       "      <td>8</td>\n",
       "    </tr>\n",
       "    <tr>\n",
       "      <th>6</th>\n",
       "      <td>1970</td>\n",
       "      <td>1</td>\n",
       "      <td>2</td>\n",
       "      <td>0</td>\n",
       "      <td>-34.891151</td>\n",
       "      <td>-56.187214</td>\n",
       "      <td>1.0</td>\n",
       "      <td>0</td>\n",
       "      <td>1</td>\n",
       "      <td>1</td>\n",
       "      <td>...</td>\n",
       "      <td>35251</td>\n",
       "      <td>198</td>\n",
       "      <td>1</td>\n",
       "      <td>187</td>\n",
       "      <td>7</td>\n",
       "      <td>1</td>\n",
       "      <td>12</td>\n",
       "      <td>3048</td>\n",
       "      <td>4</td>\n",
       "      <td>13</td>\n",
       "    </tr>\n",
       "    <tr>\n",
       "      <th>7</th>\n",
       "      <td>1970</td>\n",
       "      <td>1</td>\n",
       "      <td>2</td>\n",
       "      <td>0</td>\n",
       "      <td>37.791927</td>\n",
       "      <td>-122.225906</td>\n",
       "      <td>1.0</td>\n",
       "      <td>0</td>\n",
       "      <td>1</td>\n",
       "      <td>1</td>\n",
       "      <td>...</td>\n",
       "      <td>23515</td>\n",
       "      <td>197</td>\n",
       "      <td>26</td>\n",
       "      <td>186</td>\n",
       "      <td>6</td>\n",
       "      <td>2</td>\n",
       "      <td>20</td>\n",
       "      <td>3163</td>\n",
       "      <td>2</td>\n",
       "      <td>8</td>\n",
       "    </tr>\n",
       "    <tr>\n",
       "      <th>8</th>\n",
       "      <td>1970</td>\n",
       "      <td>1</td>\n",
       "      <td>2</td>\n",
       "      <td>0</td>\n",
       "      <td>43.076592</td>\n",
       "      <td>-89.412488</td>\n",
       "      <td>1.0</td>\n",
       "      <td>0</td>\n",
       "      <td>1</td>\n",
       "      <td>1</td>\n",
       "      <td>...</td>\n",
       "      <td>50337</td>\n",
       "      <td>197</td>\n",
       "      <td>12</td>\n",
       "      <td>186</td>\n",
       "      <td>6</td>\n",
       "      <td>3</td>\n",
       "      <td>9</td>\n",
       "      <td>2117</td>\n",
       "      <td>5</td>\n",
       "      <td>8</td>\n",
       "    </tr>\n",
       "  </tbody>\n",
       "</table>\n",
       "<p>5 rows × 39 columns</p>\n",
       "</div>"
      ],
      "text/plain": [
       "   iyear  imonth  iday  extended   latitude   longitude  specificity  \\\n",
       "0   1970       7     2         0  18.456792  -69.951164          1.0   \n",
       "5   1970       1     1         0  37.005105  -89.176269          1.0   \n",
       "6   1970       1     2         0 -34.891151  -56.187214          1.0   \n",
       "7   1970       1     2         0  37.791927 -122.225906          1.0   \n",
       "8   1970       1     2         0  43.076592  -89.412488          1.0   \n",
       "\n",
       "   vicinity  crit1  crit2  ...  target_code  natlty_code  weapsubtype_code  \\\n",
       "0         0      1      1  ...        35441           49                30   \n",
       "5         0      1      1  ...        13988          197                27   \n",
       "6         0      1      1  ...        35251          198                 1   \n",
       "7         0      1      1  ...        23515          197                26   \n",
       "8         0      1      1  ...        50337          197                12   \n",
       "\n",
       "   country_code  region_code  attacktype_code  targtype_code  gname_code  \\\n",
       "0            45            1                1             13        1774   \n",
       "5           186            6                0             12         639   \n",
       "6           187            7                1             12        3048   \n",
       "7           186            6                2             20        3163   \n",
       "8           186            6                3              9        2117   \n",
       "\n",
       "   weaptype_code  dbsource_code  \n",
       "0             10             13  \n",
       "5              4              8  \n",
       "6              4             13  \n",
       "7              2              8  \n",
       "8              5              8  \n",
       "\n",
       "[5 rows x 39 columns]"
      ]
     },
     "execution_count": 61,
     "metadata": {},
     "output_type": "execute_result"
    }
   ],
   "source": [
    "data.head()"
   ]
  },
  {
   "cell_type": "markdown",
   "metadata": {},
   "source": [
    "and it should show no nulls"
   ]
  },
  {
   "cell_type": "code",
   "execution_count": 62,
   "metadata": {},
   "outputs": [
    {
     "name": "stdout",
     "output_type": "stream",
     "text": [
      "<class 'pandas.core.frame.DataFrame'>\n",
      "Int64Index: 159766 entries, 0 to 181690\n",
      "Data columns (total 39 columns):\n",
      "iyear               159766 non-null int64\n",
      "imonth              159766 non-null int64\n",
      "iday                159766 non-null int64\n",
      "extended            159766 non-null int64\n",
      "latitude            159766 non-null float64\n",
      "longitude           159766 non-null float64\n",
      "specificity         159766 non-null float64\n",
      "vicinity            159766 non-null int64\n",
      "crit1               159766 non-null int64\n",
      "crit2               159766 non-null int64\n",
      "crit3               159766 non-null int64\n",
      "doubtterr           159766 non-null float64\n",
      "multiple            159766 non-null float64\n",
      "success             159766 non-null int64\n",
      "suicide             159766 non-null int64\n",
      "guncertain1         159766 non-null float64\n",
      "individual          159766 non-null int64\n",
      "nkill               159766 non-null float64\n",
      "nwound              159766 non-null float64\n",
      "property            159766 non-null int64\n",
      "ishostkid           159766 non-null float64\n",
      "INT_LOG             159766 non-null int64\n",
      "INT_IDEO            159766 non-null int64\n",
      "INT_MISC            159766 non-null int64\n",
      "INT_ANY             159766 non-null int64\n",
      "provstate_code      159766 non-null int32\n",
      "city_code           159766 non-null int32\n",
      "targsubtype_code    159766 non-null int32\n",
      "corp_code           159766 non-null int32\n",
      "target_code         159766 non-null int32\n",
      "natlty_code         159766 non-null int32\n",
      "weapsubtype_code    159766 non-null int32\n",
      "country_code        159766 non-null int32\n",
      "region_code         159766 non-null int32\n",
      "attacktype_code     159766 non-null int32\n",
      "targtype_code       159766 non-null int32\n",
      "gname_code          159766 non-null int32\n",
      "weaptype_code       159766 non-null int32\n",
      "dbsource_code       159766 non-null int32\n",
      "dtypes: float64(9), int32(14), int64(16)\n",
      "memory usage: 45.2 MB\n"
     ]
    }
   ],
   "source": [
    "data.info()"
   ]
  },
  {
   "cell_type": "markdown",
   "metadata": {},
   "source": [
    "____\n",
    "\n",
    "now data is ready to split & build the model \n",
    "\n",
    "# Data Splitting\n",
    "\n",
    "\n"
   ]
  },
  {
   "cell_type": "code",
   "execution_count": 63,
   "metadata": {},
   "outputs": [],
   "source": [
    "X , y = make_xy('success')"
   ]
  },
  {
   "cell_type": "markdown",
   "metadata": {},
   "source": [
    "how about the shape"
   ]
  },
  {
   "cell_type": "code",
   "execution_count": 64,
   "metadata": {},
   "outputs": [
    {
     "data": {
      "text/plain": [
       "(159766, 38)"
      ]
     },
     "execution_count": 64,
     "metadata": {},
     "output_type": "execute_result"
    }
   ],
   "source": [
    "X.shape"
   ]
  },
  {
   "cell_type": "code",
   "execution_count": 65,
   "metadata": {},
   "outputs": [
    {
     "data": {
      "text/plain": [
       "(159766,)"
      ]
     },
     "execution_count": 65,
     "metadata": {},
     "output_type": "execute_result"
    }
   ],
   "source": [
    "y.shape"
   ]
  },
  {
   "cell_type": "markdown",
   "metadata": {},
   "source": [
    "then split it "
   ]
  },
  {
   "cell_type": "code",
   "execution_count": 66,
   "metadata": {},
   "outputs": [
    {
     "name": "stdout",
     "output_type": "stream",
     "text": [
      "X_train shape is  (119824, 38)\n",
      "X_test shape is  (39942, 38)\n",
      "y_train shape is  (119824,)\n",
      "y_test shape is  (39942,)\n"
     ]
    }
   ],
   "source": [
    "X_train, X_test, y_train, y_test = train_test_split(X, y, test_size=0.25, random_state=44, shuffle =True)\n",
    "print('X_train shape is ' , X_train.shape)\n",
    "print('X_test shape is ' , X_test.shape)\n",
    "print('y_train shape is ' , y_train.shape)\n",
    "print('y_test shape is ' , y_test.shape)"
   ]
  },
  {
   "cell_type": "markdown",
   "metadata": {},
   "source": [
    "and we can see the count plot of the output"
   ]
  },
  {
   "cell_type": "code",
   "execution_count": 67,
   "metadata": {},
   "outputs": [
    {
     "data": {
      "image/png": "[encoded data removed]",
      "text/plain": [
       "<Figure size 432x288 with 1 Axes>"
      ]
     },
     "metadata": {
      "needs_background": "light"
     },
     "output_type": "display_data"
    }
   ],
   "source": [
    "cplot('success')"
   ]
  },
  {
   "cell_type": "markdown",
   "metadata": {},
   "source": [
    "almost 10% of operations failed & 90% succeeded\n",
    "\n",
    "______\n",
    "\n",
    "# Building the Model\n",
    "\n",
    "let's use the Gradient Boosting Classifier , with 100 classifier & max_depth 3"
   ]
  },
  {
   "cell_type": "code",
   "execution_count": 68,
   "metadata": {},
   "outputs": [
    {
     "data": {
      "text/plain": [
       "GradientBoostingClassifier(criterion='friedman_mse', init=None,\n",
       "              learning_rate=0.1, loss='deviance', max_depth=3,\n",
       "              max_features=None, max_leaf_nodes=None,\n",
       "              min_impurity_decrease=0.0, min_impurity_split=None,\n",
       "              min_samples_leaf=1, min_samples_split=2,\n",
       "              min_weight_fraction_leaf=0.0, n_estimators=100,\n",
       "              n_iter_no_change=None, presort='auto', random_state=33,\n",
       "              subsample=1.0, tol=0.0001, validation_fraction=0.1,\n",
       "              verbose=0, warm_start=False)"
      ]
     },
     "execution_count": 68,
     "metadata": {},
     "output_type": "execute_result"
    }
   ],
   "source": [
    "from sklearn.ensemble import GradientBoostingClassifier\n",
    "\n",
    "GBCModel = GradientBoostingClassifier(n_estimators=100,max_depth=3,random_state=33) \n",
    "GBCModel.fit(X_train, y_train)"
   ]
  },
  {
   "cell_type": "markdown",
   "metadata": {},
   "source": [
    "now how the scores looks like"
   ]
  },
  {
   "cell_type": "code",
   "execution_count": 69,
   "metadata": {},
   "outputs": [
    {
     "name": "stdout",
     "output_type": "stream",
     "text": [
      "GBCModel Train Score is :  0.9472392842836159\n",
      "GBCModel Test Score is :  0.9455460417605528\n"
     ]
    }
   ],
   "source": [
    "print('GBCModel Train Score is : ' , GBCModel.score(X_train, y_train))\n",
    "print('GBCModel Test Score is : ' , GBCModel.score(X_test, y_test))"
   ]
  },
  {
   "cell_type": "markdown",
   "metadata": {},
   "source": [
    "great ,  94% accuracy ,  lets predict the X_test"
   ]
  },
  {
   "cell_type": "code",
   "execution_count": 70,
   "metadata": {},
   "outputs": [
    {
     "name": "stdout",
     "output_type": "stream",
     "text": [
      "Predicted Value for GBCModel is :  [0 1 1 1 1 1 1 1 1 0]\n",
      "Prediction Probabilities Value for GBCModel is :  [[0.53389237 0.46610763]\n",
      " [0.01341194 0.98658806]\n",
      " [0.013064   0.986936  ]\n",
      " [0.04913287 0.95086713]\n",
      " [0.03383446 0.96616554]\n",
      " [0.26060571 0.73939429]\n",
      " [0.07396851 0.92603149]\n",
      " [0.04155095 0.95844905]\n",
      " [0.05149775 0.94850225]\n",
      " [0.89478621 0.10521379]]\n"
     ]
    }
   ],
   "source": [
    "y_pred = GBCModel.predict(X_test)\n",
    "y_pred_prob = GBCModel.predict_proba(X_test)\n",
    "print('Predicted Value for GBCModel is : ' , y_pred[:10])\n",
    "print('Prediction Probabilities Value for GBCModel is : ' , y_pred_prob[:10])"
   ]
  },
  {
   "cell_type": "markdown",
   "metadata": {},
   "source": []
  }
 ],
 "metadata": {
  "kernelspec": {
   "display_name": "Python 3",
   "language": "python",
   "name": "python3"
  },
  "language_info": {
   "codemirror_mode": {
    "name": "ipython",
    "version": 3
   },
   "file_extension": ".py",
   "mimetype": "text/x-python",
   "name": "python",
   "nbconvert_exporter": "python",
   "pygments_lexer": "ipython3",
   "version": "3.7.3"
  }
 },
 "nbformat": 4,
 "nbformat_minor": 2
}
